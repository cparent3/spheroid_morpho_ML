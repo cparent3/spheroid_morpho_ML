{
 "cells": [
  {
   "cell_type": "markdown",
   "id": "14cd65d0",
   "metadata": {},
   "source": [
    "# Initialization\n",
    "\n"
   ]
  },
  {
   "cell_type": "markdown",
   "id": "40a149d4",
   "metadata": {},
   "source": [
    "## Import librairies"
   ]
  },
  {
   "cell_type": "code",
   "execution_count": 1,
   "id": "8d843df6",
   "metadata": {},
   "outputs": [],
   "source": [
    "from pathlib import Path\n",
    "import numpy as np\n",
    "import pandas as pd\n",
    "import random\n",
    "import matplotlib as mpl\n",
    "import matplotlib.pyplot as plt\n",
    "import seaborn as sns\n",
    "from scipy.optimize import curve_fit, minimize\n",
    "from scipy.stats import t\n",
    "\n",
    "import emcee\n",
    "\n",
    "from sklearn.preprocessing import LabelEncoder, OneHotEncoder\n",
    "from sklearn.preprocessing import StandardScaler, MinMaxScaler\n",
    "from sklearn.model_selection import train_test_split\n",
    "from sklearn.model_selection import GridSearchCV\n",
    "from sklearn.pipeline import Pipeline\n",
    "from sklearn.model_selection import StratifiedShuffleSplit, StratifiedKFold, StratifiedGroupKFold, KFold, GroupKFold,LeaveOneGroupOut\n",
    "from sklearn.metrics import auc,roc_curve,confusion_matrix, precision_score, recall_score, f1_score,accuracy_score, make_scorer\n",
    "\n",
    "import tensorflow as tf\n",
    "from keras.regularizers import l2\n",
    "\n",
    "from sklearn.svm import SVC\n",
    "from sklearn.neighbors import KNeighborsClassifier\n",
    "from sklearn.naive_bayes import GaussianNB\n",
    "from sklearn.tree import DecisionTreeClassifier\n",
    "from sklearn.ensemble  import RandomForestClassifier\n",
    "from sklearn.linear_model import LogisticRegression\n",
    "from sklearn.ensemble import HistGradientBoostingClassifier\n",
    "\n"
   ]
  },
  {
   "cell_type": "markdown",
   "id": "53c9cc4f",
   "metadata": {},
   "source": [
    "## Init folder input/output paths"
   ]
  },
  {
   "cell_type": "code",
   "execution_count": 2,
   "id": "f0db408a",
   "metadata": {},
   "outputs": [],
   "source": [
    "def createFolder(folder_path):\n",
    "    folder_path = Path(folder_path)\n",
    "    folder_path.mkdir(parents=True, exist_ok=True)\n",
    "\n",
    "fig_folder = Path('output figures')\n",
    "createFolder(fig_folder)"
   ]
  },
  {
   "cell_type": "markdown",
   "id": "bd7974be",
   "metadata": {},
   "source": [
    "## Load dataset"
   ]
  },
  {
   "cell_type": "code",
   "execution_count": 3,
   "id": "3b94ad29",
   "metadata": {},
   "outputs": [
    {
     "data": {
      "text/html": [
       "<div>\n",
       "<style scoped>\n",
       "    .dataframe tbody tr th:only-of-type {\n",
       "        vertical-align: middle;\n",
       "    }\n",
       "\n",
       "    .dataframe tbody tr th {\n",
       "        vertical-align: top;\n",
       "    }\n",
       "\n",
       "    .dataframe thead th {\n",
       "        text-align: right;\n",
       "    }\n",
       "</style>\n",
       "<table border=\"1\" class=\"dataframe\">\n",
       "  <thead>\n",
       "    <tr style=\"text-align: right;\">\n",
       "      <th></th>\n",
       "      <th>spheroid ID</th>\n",
       "      <th>Experiment ID</th>\n",
       "      <th>drug concentration (uM)</th>\n",
       "      <th>spheroIndex</th>\n",
       "      <th>Area (um2)_day0</th>\n",
       "      <th>Area (um2)_day1</th>\n",
       "      <th>Area (um2)_day2</th>\n",
       "      <th>Mean grey value_day0</th>\n",
       "      <th>Mean grey value_day1</th>\n",
       "      <th>Mean grey value_day2</th>\n",
       "      <th>...</th>\n",
       "      <th>Grey2-0</th>\n",
       "      <th>Grey2-1</th>\n",
       "      <th>DCorrelation_1-0</th>\n",
       "      <th>DCorrelation_2-0</th>\n",
       "      <th>DCorrelation_2-1</th>\n",
       "      <th>viability score</th>\n",
       "      <th>2 classes</th>\n",
       "      <th>2 classes encoded</th>\n",
       "      <th>3 classes</th>\n",
       "      <th>3 classes encoded</th>\n",
       "    </tr>\n",
       "  </thead>\n",
       "  <tbody>\n",
       "    <tr>\n",
       "      <th>0</th>\n",
       "      <td>(1803, 2, 0.1)</td>\n",
       "      <td>1803</td>\n",
       "      <td>0.1</td>\n",
       "      <td>2</td>\n",
       "      <td>21010.765200</td>\n",
       "      <td>NaN</td>\n",
       "      <td>40799.3564</td>\n",
       "      <td>273.563070</td>\n",
       "      <td>NaN</td>\n",
       "      <td>363.215620</td>\n",
       "      <td>...</td>\n",
       "      <td>89.652550</td>\n",
       "      <td>NaN</td>\n",
       "      <td>NaN</td>\n",
       "      <td>0.014911</td>\n",
       "      <td>NaN</td>\n",
       "      <td>78.738935</td>\n",
       "      <td>alive</td>\n",
       "      <td>0</td>\n",
       "      <td>alive</td>\n",
       "      <td>0</td>\n",
       "    </tr>\n",
       "    <tr>\n",
       "      <th>1</th>\n",
       "      <td>(1803, 3, 0.1)</td>\n",
       "      <td>1803</td>\n",
       "      <td>0.1</td>\n",
       "      <td>3</td>\n",
       "      <td>18284.785800</td>\n",
       "      <td>30485.2706</td>\n",
       "      <td>41872.7440</td>\n",
       "      <td>446.811893</td>\n",
       "      <td>477.670048</td>\n",
       "      <td>357.425043</td>\n",
       "      <td>...</td>\n",
       "      <td>-89.386850</td>\n",
       "      <td>-120.245005</td>\n",
       "      <td>0.008844</td>\n",
       "      <td>0.027155</td>\n",
       "      <td>0.018311</td>\n",
       "      <td>81.441218</td>\n",
       "      <td>alive</td>\n",
       "      <td>0</td>\n",
       "      <td>alive</td>\n",
       "      <td>0</td>\n",
       "    </tr>\n",
       "    <tr>\n",
       "      <th>2</th>\n",
       "      <td>(1803, 4, 0.1)</td>\n",
       "      <td>1803</td>\n",
       "      <td>0.1</td>\n",
       "      <td>4</td>\n",
       "      <td>15930.772400</td>\n",
       "      <td>27041.9282</td>\n",
       "      <td>NaN</td>\n",
       "      <td>233.473857</td>\n",
       "      <td>386.175899</td>\n",
       "      <td>NaN</td>\n",
       "      <td>...</td>\n",
       "      <td>NaN</td>\n",
       "      <td>NaN</td>\n",
       "      <td>0.007834</td>\n",
       "      <td>NaN</td>\n",
       "      <td>NaN</td>\n",
       "      <td>103.152664</td>\n",
       "      <td>alive</td>\n",
       "      <td>0</td>\n",
       "      <td>alive</td>\n",
       "      <td>0</td>\n",
       "    </tr>\n",
       "    <tr>\n",
       "      <th>3</th>\n",
       "      <td>(1803, 5, 0.1)</td>\n",
       "      <td>1803</td>\n",
       "      <td>0.1</td>\n",
       "      <td>5</td>\n",
       "      <td>18412.317000</td>\n",
       "      <td>27653.0152</td>\n",
       "      <td>42882.3660</td>\n",
       "      <td>316.993179</td>\n",
       "      <td>370.756607</td>\n",
       "      <td>350.027196</td>\n",
       "      <td>...</td>\n",
       "      <td>33.034017</td>\n",
       "      <td>-20.729411</td>\n",
       "      <td>0.028224</td>\n",
       "      <td>0.028457</td>\n",
       "      <td>0.000233</td>\n",
       "      <td>76.813170</td>\n",
       "      <td>alive</td>\n",
       "      <td>0</td>\n",
       "      <td>alive</td>\n",
       "      <td>0</td>\n",
       "    </tr>\n",
       "    <tr>\n",
       "      <th>4</th>\n",
       "      <td>(1803, 6, 0.1)</td>\n",
       "      <td>1803</td>\n",
       "      <td>0.1</td>\n",
       "      <td>6</td>\n",
       "      <td>15771.358400</td>\n",
       "      <td>26930.3384</td>\n",
       "      <td>41112.8706</td>\n",
       "      <td>311.382544</td>\n",
       "      <td>334.841864</td>\n",
       "      <td>466.537552</td>\n",
       "      <td>...</td>\n",
       "      <td>155.155008</td>\n",
       "      <td>131.695688</td>\n",
       "      <td>0.005906</td>\n",
       "      <td>-0.002487</td>\n",
       "      <td>-0.008393</td>\n",
       "      <td>73.893462</td>\n",
       "      <td>alive</td>\n",
       "      <td>0</td>\n",
       "      <td>middle</td>\n",
       "      <td>2</td>\n",
       "    </tr>\n",
       "    <tr>\n",
       "      <th>...</th>\n",
       "      <td>...</td>\n",
       "      <td>...</td>\n",
       "      <td>...</td>\n",
       "      <td>...</td>\n",
       "      <td>...</td>\n",
       "      <td>...</td>\n",
       "      <td>...</td>\n",
       "      <td>...</td>\n",
       "      <td>...</td>\n",
       "      <td>...</td>\n",
       "      <td>...</td>\n",
       "      <td>...</td>\n",
       "      <td>...</td>\n",
       "      <td>...</td>\n",
       "      <td>...</td>\n",
       "      <td>...</td>\n",
       "      <td>...</td>\n",
       "      <td>...</td>\n",
       "      <td>...</td>\n",
       "      <td>...</td>\n",
       "      <td>...</td>\n",
       "    </tr>\n",
       "    <tr>\n",
       "      <th>347</th>\n",
       "      <td>(2901, 6, 20.0)</td>\n",
       "      <td>2901</td>\n",
       "      <td>20.0</td>\n",
       "      <td>6</td>\n",
       "      <td>18838.827310</td>\n",
       "      <td>NaN</td>\n",
       "      <td>23247.8750</td>\n",
       "      <td>346.617821</td>\n",
       "      <td>NaN</td>\n",
       "      <td>1069.836070</td>\n",
       "      <td>...</td>\n",
       "      <td>723.218249</td>\n",
       "      <td>NaN</td>\n",
       "      <td>NaN</td>\n",
       "      <td>-0.060875</td>\n",
       "      <td>NaN</td>\n",
       "      <td>42.281003</td>\n",
       "      <td>dead</td>\n",
       "      <td>1</td>\n",
       "      <td>middle</td>\n",
       "      <td>2</td>\n",
       "    </tr>\n",
       "    <tr>\n",
       "      <th>348</th>\n",
       "      <td>(2901, 11, 20.0)</td>\n",
       "      <td>2901</td>\n",
       "      <td>20.0</td>\n",
       "      <td>11</td>\n",
       "      <td>19408.304872</td>\n",
       "      <td>NaN</td>\n",
       "      <td>27647.7014</td>\n",
       "      <td>242.379733</td>\n",
       "      <td>NaN</td>\n",
       "      <td>1047.332597</td>\n",
       "      <td>...</td>\n",
       "      <td>804.952864</td>\n",
       "      <td>NaN</td>\n",
       "      <td>NaN</td>\n",
       "      <td>-0.054548</td>\n",
       "      <td>NaN</td>\n",
       "      <td>34.153426</td>\n",
       "      <td>dead</td>\n",
       "      <td>1</td>\n",
       "      <td>middle</td>\n",
       "      <td>2</td>\n",
       "    </tr>\n",
       "    <tr>\n",
       "      <th>349</th>\n",
       "      <td>(2901, 18, 20.0)</td>\n",
       "      <td>2901</td>\n",
       "      <td>20.0</td>\n",
       "      <td>18</td>\n",
       "      <td>17977.776798</td>\n",
       "      <td>NaN</td>\n",
       "      <td>21930.0526</td>\n",
       "      <td>306.838603</td>\n",
       "      <td>NaN</td>\n",
       "      <td>924.446711</td>\n",
       "      <td>...</td>\n",
       "      <td>617.608107</td>\n",
       "      <td>NaN</td>\n",
       "      <td>NaN</td>\n",
       "      <td>-0.039745</td>\n",
       "      <td>NaN</td>\n",
       "      <td>44.481610</td>\n",
       "      <td>dead</td>\n",
       "      <td>1</td>\n",
       "      <td>middle</td>\n",
       "      <td>2</td>\n",
       "    </tr>\n",
       "    <tr>\n",
       "      <th>350</th>\n",
       "      <td>(2901, 12, 50.0)</td>\n",
       "      <td>2901</td>\n",
       "      <td>50.0</td>\n",
       "      <td>12</td>\n",
       "      <td>14365.307914</td>\n",
       "      <td>NaN</td>\n",
       "      <td>16345.2488</td>\n",
       "      <td>305.499310</td>\n",
       "      <td>NaN</td>\n",
       "      <td>1027.062685</td>\n",
       "      <td>...</td>\n",
       "      <td>721.563375</td>\n",
       "      <td>NaN</td>\n",
       "      <td>NaN</td>\n",
       "      <td>-0.061309</td>\n",
       "      <td>NaN</td>\n",
       "      <td>4.012441</td>\n",
       "      <td>dead</td>\n",
       "      <td>1</td>\n",
       "      <td>dead</td>\n",
       "      <td>1</td>\n",
       "    </tr>\n",
       "    <tr>\n",
       "      <th>351</th>\n",
       "      <td>(2901, 16, 50.0)</td>\n",
       "      <td>2901</td>\n",
       "      <td>50.0</td>\n",
       "      <td>16</td>\n",
       "      <td>NaN</td>\n",
       "      <td>NaN</td>\n",
       "      <td>16440.8972</td>\n",
       "      <td>NaN</td>\n",
       "      <td>NaN</td>\n",
       "      <td>1040.815980</td>\n",
       "      <td>...</td>\n",
       "      <td>NaN</td>\n",
       "      <td>NaN</td>\n",
       "      <td>NaN</td>\n",
       "      <td>NaN</td>\n",
       "      <td>NaN</td>\n",
       "      <td>6.044335</td>\n",
       "      <td>dead</td>\n",
       "      <td>1</td>\n",
       "      <td>dead</td>\n",
       "      <td>1</td>\n",
       "    </tr>\n",
       "  </tbody>\n",
       "</table>\n",
       "<p>352 rows × 45 columns</p>\n",
       "</div>"
      ],
      "text/plain": [
       "          spheroid ID  Experiment ID  drug concentration (uM)  spheroIndex  \\\n",
       "0      (1803, 2, 0.1)           1803                      0.1            2   \n",
       "1      (1803, 3, 0.1)           1803                      0.1            3   \n",
       "2      (1803, 4, 0.1)           1803                      0.1            4   \n",
       "3      (1803, 5, 0.1)           1803                      0.1            5   \n",
       "4      (1803, 6, 0.1)           1803                      0.1            6   \n",
       "..                ...            ...                      ...          ...   \n",
       "347   (2901, 6, 20.0)           2901                     20.0            6   \n",
       "348  (2901, 11, 20.0)           2901                     20.0           11   \n",
       "349  (2901, 18, 20.0)           2901                     20.0           18   \n",
       "350  (2901, 12, 50.0)           2901                     50.0           12   \n",
       "351  (2901, 16, 50.0)           2901                     50.0           16   \n",
       "\n",
       "     Area (um2)_day0  Area (um2)_day1  Area (um2)_day2  Mean grey value_day0  \\\n",
       "0       21010.765200              NaN       40799.3564            273.563070   \n",
       "1       18284.785800       30485.2706       41872.7440            446.811893   \n",
       "2       15930.772400       27041.9282              NaN            233.473857   \n",
       "3       18412.317000       27653.0152       42882.3660            316.993179   \n",
       "4       15771.358400       26930.3384       41112.8706            311.382544   \n",
       "..               ...              ...              ...                   ...   \n",
       "347     18838.827310              NaN       23247.8750            346.617821   \n",
       "348     19408.304872              NaN       27647.7014            242.379733   \n",
       "349     17977.776798              NaN       21930.0526            306.838603   \n",
       "350     14365.307914              NaN       16345.2488            305.499310   \n",
       "351              NaN              NaN       16440.8972                   NaN   \n",
       "\n",
       "     Mean grey value_day1  Mean grey value_day2  ...     Grey2-0     Grey2-1  \\\n",
       "0                     NaN            363.215620  ...   89.652550         NaN   \n",
       "1              477.670048            357.425043  ...  -89.386850 -120.245005   \n",
       "2              386.175899                   NaN  ...         NaN         NaN   \n",
       "3              370.756607            350.027196  ...   33.034017  -20.729411   \n",
       "4              334.841864            466.537552  ...  155.155008  131.695688   \n",
       "..                    ...                   ...  ...         ...         ...   \n",
       "347                   NaN           1069.836070  ...  723.218249         NaN   \n",
       "348                   NaN           1047.332597  ...  804.952864         NaN   \n",
       "349                   NaN            924.446711  ...  617.608107         NaN   \n",
       "350                   NaN           1027.062685  ...  721.563375         NaN   \n",
       "351                   NaN           1040.815980  ...         NaN         NaN   \n",
       "\n",
       "     DCorrelation_1-0  DCorrelation_2-0  DCorrelation_2-1  viability score  \\\n",
       "0                 NaN          0.014911               NaN        78.738935   \n",
       "1            0.008844          0.027155          0.018311        81.441218   \n",
       "2            0.007834               NaN               NaN       103.152664   \n",
       "3            0.028224          0.028457          0.000233        76.813170   \n",
       "4            0.005906         -0.002487         -0.008393        73.893462   \n",
       "..                ...               ...               ...              ...   \n",
       "347               NaN         -0.060875               NaN        42.281003   \n",
       "348               NaN         -0.054548               NaN        34.153426   \n",
       "349               NaN         -0.039745               NaN        44.481610   \n",
       "350               NaN         -0.061309               NaN         4.012441   \n",
       "351               NaN               NaN               NaN         6.044335   \n",
       "\n",
       "     2 classes  2 classes encoded  3 classes  3 classes encoded  \n",
       "0        alive                  0      alive                  0  \n",
       "1        alive                  0      alive                  0  \n",
       "2        alive                  0      alive                  0  \n",
       "3        alive                  0      alive                  0  \n",
       "4        alive                  0     middle                  2  \n",
       "..         ...                ...        ...                ...  \n",
       "347       dead                  1     middle                  2  \n",
       "348       dead                  1     middle                  2  \n",
       "349       dead                  1     middle                  2  \n",
       "350       dead                  1       dead                  1  \n",
       "351       dead                  1       dead                  1  \n",
       "\n",
       "[352 rows x 45 columns]"
      ]
     },
     "execution_count": 3,
     "metadata": {},
     "output_type": "execute_result"
    }
   ],
   "source": [
    "folder_dataset_processed = Path('data/processed_data')\n",
    "\n",
    "df_A673 = pd.read_csv(folder_dataset_processed / 'A673_processed_data.csv', index_col=0)\n",
    "df_PDX = pd.read_csv(folder_dataset_processed / 'PDX_processed_data.csv', index_col=0)\n",
    "\n",
    "df_A673\n",
    "#df_PDX"
   ]
  },
  {
   "cell_type": "code",
   "execution_count": 4,
   "id": "aa9985f4",
   "metadata": {},
   "outputs": [
    {
     "data": {
      "text/plain": [
       "Index(['spheroid ID', 'Experiment ID', 'drug concentration (uM)',\n",
       "       'spheroIndex', 'Area (um2)_day0', 'Area (um2)_day1', 'Area (um2)_day2',\n",
       "       'Mean grey value_day0', 'Mean grey value_day1', 'Mean grey value_day2',\n",
       "       'Homogeneity_day0', 'Homogeneity_day1', 'Homogeneity_day2',\n",
       "       'Energy_day0', 'Energy_day1', 'Energy_day2', 'Correlation_day0',\n",
       "       'Correlation_day1', 'Correlation_day2', 'Solidity_day0',\n",
       "       'Solidity_day1', 'Solidity_day2', 'Circularity_day0',\n",
       "       'Circularity_day1', 'Circularity_day2', 'Equivalent Diameter (um)_day0',\n",
       "       'Equivalent Diameter (um)_day1', 'Equivalent Diameter (um)_day2',\n",
       "       'Perimeter (um)_day0', 'Perimeter (um)_day1', 'Perimeter (um)_day2',\n",
       "       'Growth1-0', 'Growth2-0', 'Growth2-1', 'Grey1-0', 'Grey2-0', 'Grey2-1',\n",
       "       'DCorrelation_1-0', 'DCorrelation_2-0', 'DCorrelation_2-1',\n",
       "       'viability score', '2 classes', '2 classes encoded', '3 classes',\n",
       "       '3 classes encoded'],\n",
       "      dtype='object')"
      ]
     },
     "execution_count": 4,
     "metadata": {},
     "output_type": "execute_result"
    }
   ],
   "source": [
    "df_A673.columns"
   ]
  },
  {
   "cell_type": "markdown",
   "id": "b4d7a8ab",
   "metadata": {},
   "source": [
    "## Parameters for graphs"
   ]
  },
  {
   "cell_type": "code",
   "execution_count": 5,
   "id": "d283058e",
   "metadata": {},
   "outputs": [],
   "source": [
    "# Set graph theme appearance\n",
    "sns.set(font='Arial')\n",
    "sns.set_theme(context='paper', style='ticks')\n",
    "mpl.rcParams['axes.labelpad'] = 1\n",
    "mpl.rcParams['xtick.major.pad'] = 1 \n",
    "mpl.rcParams['ytick.major.pad'] = 1"
   ]
  },
  {
   "cell_type": "code",
   "execution_count": 6,
   "id": "84a2e355",
   "metadata": {
    "scrolled": true
   },
   "outputs": [],
   "source": [
    "# Color palette for classification\n",
    "palette_class = {\n",
    "            'alive': (51/255, 117/255, 56/255) ,  # Vert\n",
    "            'middle' : (240/255, 228/255, 66/255), # Yellow\n",
    "            'dead': (194/255, 106/255, 119/255)   # Magenta\n",
    "             }\n",
    "\n",
    "# Define kws_dict_A673 and kws_dict_PDX: dictionnaries with parameters for graphs appearance\n",
    "marker_size = 20\n",
    "line_size = 1\n",
    "\n",
    "kws_dict_A673 = {\n",
    "   2602:\n",
    "        {\n",
    "        'marker' : 's',\n",
    "        'line' : 'dashdot',\n",
    "        'marker_col' : (82/255, 24/255, 133/255),\n",
    "        'line_col' : (82/255, 24/255, 133/255),\n",
    "        'marker_size' : marker_size,\n",
    "        'line_size' : line_size\n",
    "        },\n",
    "    1803:\n",
    "        {\n",
    "        'marker' : 'o',\n",
    "        'line' : '-',\n",
    "        'marker_col' : (31/255, 79/255, 126/255),\n",
    "        'line_col' : (1/255, 114/255, 114/255),\n",
    "        'marker_size' : marker_size,\n",
    "        'line_size' : line_size\n",
    "        },\n",
    "    2901:\n",
    "        {\n",
    "        'marker' : '^',\n",
    "        'line' : '--',\n",
    "        'marker_col' : (131/255, 27/255, 91/255),\n",
    "        'line_col' : (99/255, 20/255, 69/255),\n",
    "        'marker_size' : marker_size,\n",
    "        'line_size' : line_size\n",
    "        },\n",
    "    \n",
    "}\n",
    "\n",
    "\n",
    "kws_dict_PDX = {\n",
    "   1806:\n",
    "        {\n",
    "        'marker' : 's',\n",
    "        'line' : 'dashdot',\n",
    "        'marker_col' : (203/255, 60/255, 52/255),\n",
    "        'line_col' : (166/255, 49/255, 43/255),\n",
    "        'marker_size' : marker_size,\n",
    "        'line_size' : line_size\n",
    "        },\n",
    "    1305:\n",
    "        {\n",
    "        'marker' : 'o',\n",
    "        'line' : '-',\n",
    "        'marker_col' : (255/255, 128/255, 0/255),\n",
    "        'line_col' : (192/255, 96/255, 0/255),\n",
    "        'marker_size' : marker_size,\n",
    "        'line_size' : line_size\n",
    "        },\n",
    "    2406:\n",
    "        {\n",
    "        'marker' : '^',\n",
    "        'line' : '--',\n",
    "        'marker_col' : (129/255, 128/255, 71/255),\n",
    "        'line_col' : (129/255, 128/255, 71/255),\n",
    "        'marker_size' : marker_size,\n",
    "        'line_size' : line_size\n",
    "        },\n",
    "    \n",
    "}"
   ]
  },
  {
   "cell_type": "markdown",
   "id": "af78440f",
   "metadata": {},
   "source": [
    "# Machine learning model"
   ]
  },
  {
   "cell_type": "markdown",
   "id": "68897044",
   "metadata": {},
   "source": [
    "## Functions"
   ]
  },
  {
   "cell_type": "markdown",
   "id": "c82f745b",
   "metadata": {},
   "source": [
    "### Create NN model"
   ]
  },
  {
   "cell_type": "code",
   "execution_count": 7,
   "id": "39c7700c",
   "metadata": {},
   "outputs": [],
   "source": [
    "def createNN_model(size):\n",
    "    # Fix reproductibility\n",
    "    np.random.seed(42)\n",
    "    random.seed(42)\n",
    "    tf.random.set_seed(42)\n",
    "\n",
    "    # Model creation\n",
    "    model = tf.keras.models.Sequential([\n",
    "                tf.keras.layers.Input(shape=(size,)),\n",
    "                tf.keras.layers.Dense(128, activation='relu'),\n",
    "                tf.keras.layers.Dense(10, activation='relu'),\n",
    "                tf.keras.layers.Dense(num_classes, activation='softmax')\n",
    "                ])\n",
    "    \n",
    "    # Compile the model\n",
    "    model.compile(optimizer='Adam', loss='categorical_crossentropy', metrics=['accuracy'])\n",
    "\n",
    "    initial_weights = model.get_weights()\n",
    "\n",
    "    return model, initial_weights"
   ]
  },
  {
   "cell_type": "markdown",
   "id": "94f7d851",
   "metadata": {},
   "source": [
    "### Run model"
   ]
  },
  {
   "cell_type": "code",
   "execution_count": 8,
   "id": "6a29e3bb",
   "metadata": {},
   "outputs": [],
   "source": [
    "def classification_cross_validatation(\n",
    "        model,\n",
    "        X,                          # df with features\n",
    "        y,                          # serie with target labels for classification\n",
    "        validation_method='kfold',  # cross-validation method: 'kfold', 'leaveOneOut', or 'shuffle'\n",
    "        n_splits=5,                 # Number of split for cross-validation (relevant for 'kfold' and 'shuffle')\n",
    "        group=None,                 # Serie with the group labels for leave-one-group-out cross-validation\n",
    "        NN=False,                   # Whether the model is a neural network (NN)\n",
    "        initial_weights=[],         # Initial weights for the NN\n",
    "        epoch=20,                   # Number of epochs for training a NN\n",
    "        batch_size=30,              # Batch size for training a NN\n",
    "    ):\n",
    "\n",
    "    # Infer the number of classes from y\n",
    "    num_classes = len(np.unique(y))\n",
    "\n",
    "    # Initialize lists to store metrics, predictions, and indices for each fold\n",
    "    metrics_dict = {'accuracy_scores': [], 'precision_scores': [], 'recall_scores': [], 'f1_scores': []}\n",
    "    conf_matrices, histories = [], []\n",
    "    y_test_list, y_pred_list, test_index_list, y_pred_proba_list, group_test_list = [], [], [], [], []\n",
    "    \n",
    "    # Select cross-validation method\n",
    "    cv = _get_cross_validation_method(validation_method, n_splits)\n",
    "\n",
    "    # Loop over each train-test split\n",
    "    for train_index, test_index in cv.split(X, y, groups=group): \n",
    "        X_train, X_test = X.iloc[train_index], X.iloc[test_index] \n",
    "        y_train, y_test = y.iloc[train_index], y.iloc[test_index]\n",
    "        \n",
    "        # Standardize data\n",
    "        scaler = StandardScaler()\n",
    "        X_train = scaler.fit_transform(X_train)\n",
    "        X_test = scaler.transform(X_test)\n",
    "\n",
    "        ### Training of the NN\n",
    "        if NN == True:\n",
    "            history, y_pred, y_pred_proba = _train_neural_network(\n",
    "                model, X_train, y_train, X_test, y_test, num_classes, epoch, batch_size, initial_weights\n",
    "            )\n",
    "            histories.append(history)\n",
    "\n",
    "        ### Training of model other than NN\n",
    "        else :\n",
    "            y_pred, y_pred_proba = _train_standard_model(model, X_train, y_train, X_test)\n",
    "\n",
    "        ### Handle Leave-One-Group-Out specific logic\n",
    "        if validation_method == 'leaveOneOut':\n",
    "            group_test = group.iloc[test_index].unique()[0]\n",
    "            group_test_list.append(group_test)\n",
    "\n",
    "        ### Compute metrics\n",
    "        metrics_dict, conf_matrices = _save_computed_metrics(metrics_dict, conf_matrices, y_test, y_pred, num_classes)\n",
    "\n",
    "        ### Append predictions and test indices\n",
    "        y_test_list.append(np.array(y_test))   \n",
    "        y_pred_list.append(np.array(y_pred))\n",
    "        test_index_list.append(test_index)\n",
    "        y_pred_proba_list.append(y_pred_proba)\n",
    "       \n",
    "    \n",
    "    return metrics_dict, conf_matrices, histories, y_test_list, y_pred_list, test_index_list, y_pred_proba_list, group_test_list\n",
    "\n",
    "\n",
    "def _get_cross_validation_method(method, n_splits):\n",
    "    \"\"\"Select the cross-validation method.\"\"\"\n",
    "    if method == 'kfold':\n",
    "        return StratifiedKFold(n_splits=n_splits, shuffle=True, random_state=42)\n",
    "    elif method == 'leaveOneOut':\n",
    "        return LeaveOneGroupOut()\n",
    "    elif method == 'shuffle':\n",
    "        return StratifiedShuffleSplit(n_splits=n_splits, test_size=0.2, random_state=42)\n",
    "    else:\n",
    "        raise ValueError(\"Invalid validation method: choose 'kfold', 'leaveOneOut', or 'shuffle'\")\n",
    "\n",
    "def _train_neural_network(model, X_train, y_train, X_test, y_test, num_classes, epoch, batch_size, initial_weights):\n",
    "    \"\"\"Train a neural network on the given data.\"\"\"\n",
    "    # One-Hot Encoding for neural network\n",
    "    y_train = tf.keras.utils.to_categorical(y_train, num_classes)\n",
    "    y_test = tf.keras.utils.to_categorical(y_test, num_classes)\n",
    "\n",
    "    # Reset and compile model\n",
    "    model_copy = tf.keras.models.clone_model(model)\n",
    "    model_copy.set_weights(initial_weights)\n",
    "    model_copy.compile(optimizer='Adam', loss='categorical_crossentropy', metrics=['accuracy'])\n",
    "\n",
    "    # Train model\n",
    "    history = model_copy.fit(\n",
    "        X_train, y_train, epochs=epoch, batch_size=batch_size, validation_data=(X_test, y_test), verbose=0)\n",
    "\n",
    "    # Make predictions\n",
    "    y_pred_proba = model_copy.predict(X_test)  # probabilities\n",
    "    y_pred = np.argmax(y_pred_proba, axis=1)   # decoded predicted label\n",
    "\n",
    "    return history, y_pred, y_pred_proba\n",
    "\n",
    "def _train_standard_model(model, X_train, y_train, X_test):\n",
    "    \"\"\"Train a standard machine learning model.\"\"\"\n",
    "    model.fit(X_train, y_train)\n",
    "\n",
    "    # Try to get predicted probabilities, check if model supports it\n",
    "    try:\n",
    "        y_pred_proba = model.predict_proba(X_test)\n",
    "    except AttributeError:\n",
    "        # If the model does not have predict_proba, set it to None\n",
    "        y_pred_proba = None\n",
    "        print(f\"Warning: {model.__class__.__name__} does not support 'predict_proba', skipping probability calculation.\")\n",
    "    \n",
    "    y_pred = model.predict(X_test)\n",
    "    \n",
    "    return y_pred, y_pred_proba\n",
    "\n",
    "def _compute_metrics(y_test, y_pred, num_classes):\n",
    "    \"\"\"Compute evaluation metrics.\"\"\"\n",
    "    conf_matrix = confusion_matrix(y_test, y_pred)\n",
    "    metrics = {\n",
    "        'accuracy': accuracy_score(y_test, y_pred),\n",
    "        'precision': precision_score(y_test, y_pred, average='binary' if num_classes == 2 else 'weighted'),\n",
    "        'recall': recall_score(y_test, y_pred, average='binary' if num_classes == 2 else 'weighted'),\n",
    "        'f1': f1_score(y_test, y_pred, average='weighted')\n",
    "    }\n",
    "\n",
    "    return conf_matrix, metrics\n",
    "\n",
    "def _save_computed_metrics(metrics_dict, conf_matrices, y_test, y_pred, num_classes):\n",
    "    \"\"\"\"\"\"\n",
    "    conf_matrix, metrics = _compute_metrics(y_test, y_pred, num_classes)\n",
    "    \n",
    "    conf_matrices.append(conf_matrix)\n",
    "\n",
    "    for key in metrics_dict.keys():\n",
    "        metrics_dict[key].append(metrics[key.replace('_scores', '')])  # Map metric names\n",
    "\n",
    "    return metrics_dict, conf_matrices\n",
    "\n"
   ]
  },
  {
   "cell_type": "markdown",
   "id": "72a6bf39",
   "metadata": {},
   "source": [
    "### Plot mean accuracy & loss VS epoch"
   ]
  },
  {
   "cell_type": "code",
   "execution_count": 9,
   "id": "83ba8fca",
   "metadata": {},
   "outputs": [],
   "source": [
    "def plot_metrics_vs_epoch(ax, histories, to_plot=['accuracy', 'loss']):\n",
    "    \n",
    "    colors=['g', 'm']\n",
    "\n",
    "    for metric, color in zip(to_plot, colors):\n",
    "        # Extract and compute mean for training and validation metrics\n",
    "        train_data = [history.history[metric] for history in histories]\n",
    "        val_data = [history.history[f'val_{metric}'] for history in histories]\n",
    "\n",
    "        train_mean = np.mean(train_data, axis=0)\n",
    "        val_mean = np.mean(val_data, axis=0)\n",
    "\n",
    "        # Plot training and validation metrics\n",
    "        ax.plot(train_mean, label=f'Mean Training {metric}', ls='-', c=color)\n",
    "        ax.plot(val_mean, label=f'Mean Validation {metric}', ls='--', c=color)\n",
    "\n",
    "    # Graph appearance\n",
    "    ax.set_ylim(0, 1.02)\n",
    "    ax.set_ylabel('Accuracy/Loss')\n",
    "    ax.set_xlabel('Epoch')\n",
    "\n",
    "    ax.legend(loc='upper center', bbox_to_anchor=(0.4, -0.2), fontsize=8)\n",
    "    ax.grid(True)\n",
    "\n"
   ]
  },
  {
   "cell_type": "markdown",
   "id": "46cb5a42",
   "metadata": {},
   "source": [
    "### Plot ROC AUC curve"
   ]
  },
  {
   "cell_type": "code",
   "execution_count": 10,
   "id": "da29ba52",
   "metadata": {},
   "outputs": [],
   "source": [
    "def plot_ROC_curves(ax, y_test_list, y_pred_proba_list, num_classes):\n",
    "\n",
    "    tprs = []\n",
    "    aucs = []\n",
    "    mean_fpr = np.linspace(0, 1, 100)\n",
    "\n",
    "    for y_test, y_score in zip(y_test_list, y_pred_proba_list) :     \n",
    "        # Encoding of y_test\n",
    "        y_test_onehot = tf.keras.utils.to_categorical(y_test, num_classes)\n",
    "\n",
    "        # Calculate ROC for each class\n",
    "        for i in range(num_classes):\n",
    "            fpr, tpr, _ = roc_curve(y_test_onehot[:, i], y_score[:, i])  # i-th class vs the rest\n",
    "\n",
    "            tprs.append(np.interp(mean_fpr, fpr, tpr))  # Interpolate to make the curves comparable\n",
    "            roc_auc = auc(fpr, tpr)  # Calculate AUC for this class\n",
    "\n",
    "            aucs.append(roc_auc)\n",
    "            ax.plot(fpr, tpr, color='green', linewidth=1, alpha=0.10, label=None)\n",
    "\n",
    "\n",
    "    # Mean TPR across all classes\n",
    "    mean_tpr = np.mean(tprs, axis=0)\n",
    "    mean_tpr[-1] = 1.0  # Ensure it ends at (1, 1)\n",
    "    mean_tpr[0] = 0  # Ensure it starts at (0, 0)\n",
    "\n",
    "    # Calculate average AUC across all classes\n",
    "    mean_auc = auc(mean_fpr, mean_tpr)\n",
    "    std_auc = np.std(aucs)\n",
    "\n",
    "    # Plot the mean ROC curve with AUC\n",
    "    ax.plot(mean_fpr, mean_tpr, color='green',\n",
    "             label='Mean ROC',\n",
    "             linewidth=2.0, alpha=0.80)\n",
    "\n",
    "    # Add text annotation for Mean AUC + SD in the bottom-right corner\n",
    "    ax.text(0.95, 0.05, f'Mean AUC = \\n{mean_auc:.2f} ± {std_auc:.2f}', fontsize=8,\n",
    "            horizontalalignment='right', verticalalignment='bottom')\n",
    "    \n",
    "    # Plot the diagonal (random classifier)\n",
    "    identity_line = np.linspace(0, 1, 100)\n",
    "    ax.plot(identity_line, identity_line, color='darkgrey', linestyle='--', label='Random Classifier')\n",
    "\n",
    "    # Calculate the standard deviation of TPR and plot the shaded area\n",
    "    std_tpr = np.std(tprs, axis=0)\n",
    "    tprs_upper = np.minimum(mean_tpr + std_tpr, 1)\n",
    "    tprs_lower = np.maximum(mean_tpr - std_tpr, 0)\n",
    "    ax.fill_between(mean_fpr, tprs_lower, tprs_upper, color='grey', alpha=0.33)\n",
    "\n",
    "    # Graph appearance\n",
    "    ax.legend(loc='upper center', bbox_to_anchor=(0.5, -0.2), fontsize=8)\n",
    "    ax.set_ylabel('True Positive Rate')\n",
    "    ax.set_xlabel('False Positive Rate')\n",
    "    ax.grid(True)\n"
   ]
  },
  {
   "cell_type": "markdown",
   "id": "6a64f5dd",
   "metadata": {},
   "source": [
    "### Plot BoxPlot with metrics"
   ]
  },
  {
   "cell_type": "code",
   "execution_count": 11,
   "id": "db9d1dc0",
   "metadata": {},
   "outputs": [],
   "source": [
    "def plot_BoxPlot_Metrics(ax, metrics_dict, keys=[], widths=0.4):\n",
    "    # Initialize a dictionary to store mean values for each metric\n",
    "    means = {}\n",
    "\n",
    "    # If no specific keys are provided, use all keys in the dictionary. It will plot all metrics.\n",
    "    if keys == []:\n",
    "        keys = list(metrics_dict.keys())\n",
    "\n",
    "    # Extract data for the selected keys and format labels\n",
    "    data_to_plot = [metrics_dict[key] for key in keys]\n",
    "    labels = [key.split('_')[0] for key in keys]\n",
    "\n",
    "    # Create the boxplot\n",
    "    ax.boxplot(data_to_plot, tick_labels=labels, widths=widths)\n",
    "\n",
    "    # Compute means for each metric and store them\n",
    "    for key in keys:\n",
    "        means[key] = np.mean(metrics_dict[key])\n",
    "\n",
    "    # Write the means value above each box\n",
    "    for i, (metric, mean) in enumerate(means.items(), start=1):\n",
    "        ax.text(i, mean+0.05, f'{mean:.2f}', horizontalalignment='center', weight='bold')\n",
    "    \n",
    "    # Graph appearance\n",
    "    ax.tick_params(axis='x', rotation=45)\n",
    "    ax.set_ylabel('Score')\n",
    "    ax.set_ylim(0,1.1)\n",
    "    ax.grid(True)\n",
    "        "
   ]
  },
  {
   "cell_type": "markdown",
   "id": "5c91fb8d",
   "metadata": {},
   "source": [
    "### Plot confusions matrix"
   ]
  },
  {
   "cell_type": "code",
   "execution_count": 12,
   "id": "f037b265",
   "metadata": {},
   "outputs": [],
   "source": [
    "def plot_conf_matrices(conf_matrices):\n",
    "    \n",
    "    n_matrices = len(conf_matrices)\n",
    "\n",
    "    # Create figure \n",
    "    fig, axes = plt.subplots(1, n_matrices, figsize=(2*n_matrices, 2))\n",
    "\n",
    "    # Create a shared colormap\n",
    "    vmin = min([cm.min() for cm in conf_matrices])\n",
    "    vmax = max([cm.max() for cm in conf_matrices])\n",
    "\n",
    "    # Iterate over each confusion matrix and corresponding axis\n",
    "    for i, cm in enumerate(conf_matrices):\n",
    "        ax = axes[i]\n",
    "\n",
    "        # Plot confusion matrix\n",
    "        im = ax.imshow(cm, interpolation='nearest', cmap=plt.cm.Blues, vmin=vmin, vmax=vmax)\n",
    "\n",
    "        # Annotate the confusion matrix with its values\n",
    "        thresh = cm.max() / 2.0  # Threshold for text color\n",
    "        for j in range(cm.shape[0]):\n",
    "            for k in range(cm.shape[1]):\n",
    "                ax.text(k, j, format(cm[j, k], 'd'),\n",
    "                        ha=\"center\", va=\"center\",\n",
    "                        color=\"white\" if cm[j, k] > thresh else \"black\")\n",
    "        \n",
    "\n",
    "        # Set axis labels and ticks\n",
    "        ax.set_xlabel('Predicted Class')\n",
    "        ax.set_ylabel('Real Class')\n",
    "        ax.set_xticks(range(cm.shape[1]))\n",
    "        ax.set_yticks(range(cm.shape[0]))\n",
    "\n",
    "    plt.tight_layout()"
   ]
  },
  {
   "cell_type": "markdown",
   "id": "3ca40005",
   "metadata": {},
   "source": [
    "### Plot IC50 prediction"
   ]
  },
  {
   "cell_type": "code",
   "execution_count": 13,
   "id": "d24373b0",
   "metadata": {},
   "outputs": [],
   "source": [
    "def sigmoid(x, IC50, slope):\n",
    "    return 1 / (1 + (IC50 / (x + 1e-10))**slope)"
   ]
  },
  {
   "cell_type": "code",
   "execution_count": 14,
   "id": "b0966252",
   "metadata": {},
   "outputs": [],
   "source": [
    "### Bayesian estimation of IC50 and slope for binary sigmoid curve\n",
    "\n",
    "# Log-likelihood function\n",
    "def log_likelihood(params, x, y):\n",
    "    IC50, slope = params\n",
    "    p = sigmoid(x, IC50, slope)\n",
    "    p = np.clip(p, 1e-10, 1 - 1e-10) # Ensure p is beetwenn 0+ and 1-\n",
    "\n",
    "    # Logistic Log-likelihood(Bernoulli) (binary data)\n",
    "    return np.sum(y * np.log(p) + (1 - y) * np.log(1 - p))\n",
    "\n",
    "# Log-prior function\n",
    "def log_prior(params):\n",
    "    IC50, slope = params\n",
    "    if 0 < IC50 < 20 and -50 < slope < -0.1 :\n",
    "        return 0.0\n",
    "    return -np.inf\n",
    "\n",
    "# Log-posterior function\n",
    "def log_posterior(params, x, y):\n",
    "    lp = log_prior(params)\n",
    "    if not np.isfinite(lp):\n",
    "        return -np.inf\n",
    "    return lp + log_likelihood(params, x, y)\n",
    "    \n",
    "def IC50_pred(X, Y):\n",
    "    # For the log representation and fit, change the concentration '0' into a low concentration\n",
    "    X = [0.01 if x == 0 or x ==0.001 else x for x in X]\n",
    "\n",
    "    X = np.array(X)\n",
    "    Y = np.array(Y)\n",
    "    \n",
    "    # Initial guess for MCMC\n",
    "    IC50_min, IC50_max = 0, 20\n",
    "    slope_min, slope_max = -50, -0.1\n",
    "\n",
    "    # Generate initial values for IC50 and splope\n",
    "    IC50_init = np.random.uniform(IC50_min, IC50_max)\n",
    "    slope_init = np.random.uniform(slope_min, slope_max)\n",
    "\n",
    "    initial = np.array([IC50_init, slope_init])\n",
    "    nwalkers = 32  # Number of MCMC walkers\n",
    "    ndim = len(initial)  # Number of parameters\n",
    "\n",
    "    # Initialize walkers\n",
    "    p0 = np.random.rand(nwalkers, ndim)\n",
    "    p0[:, 0] = p0[:, 0] * (IC50_max - IC50_min) + IC50_min \n",
    "    p0[:, 1] = p0[:, 1] * (slope_max - slope_min) + slope_min\n",
    "\n",
    "    # Run MCMC\n",
    "    sampler = emcee.EnsembleSampler(nwalkers, ndim, log_posterior, args=(X, Y))\n",
    "    sampler.run_mcmc(p0, 5000, progress=True) \n",
    "\n",
    "    # Extract samples\n",
    "    samples = sampler.get_chain(discard=100, thin=15, flat=True)\n",
    "\n",
    "    # Get parameter estimates and uncertainties\n",
    "    IC50_mcmc, slope_mcmc = np.percentile(samples, 50, axis=0)\n",
    "    IC50_err = np.std(samples[:, 0])\n",
    "    slope_err = np.std(samples[:, 1])\n",
    "\n",
    "    # Compute percentiles at 2.5% et 97.5% to get credible interval at 95%\n",
    "    IC50_CI = np.percentile(samples[:, 0], [2.5, 97.5])\n",
    "    slope_CI = np.percentile(samples[:, 1], [2.5, 97.5])\n",
    "\n",
    "    # Print results\n",
    "    print(\"IC50:  {:.3f} with 95% credible interval: ({:.3f}, {:.3f})\".format(IC50_mcmc, IC50_CI[0], IC50_CI[1]))\n",
    "    print(\"Slope: {:.3f} with 95% credible interval: ({:.3f}, {:.3f})\".format(slope_mcmc, slope_CI[0], slope_CI[1]))\n",
    "\n",
    "    print(\"Mean autocorrelation time: {0:.3f} steps\".format(np.mean(sampler.get_autocorr_time())))\n",
    "    \n",
    "    return IC50_mcmc, slope_mcmc\n"
   ]
  },
  {
   "cell_type": "code",
   "execution_count": 15,
   "id": "2ed8aac4",
   "metadata": {},
   "outputs": [],
   "source": [
    "def getConcentrationPrediction(test_index_list, y_pred_list, df):\n",
    "    concentration_list = [] \n",
    "    class_prediction_list = []\n",
    "    \n",
    "    # Switch the class so 0 corresponds to low viab. :\n",
    "    # 2->1 0-> 2 1->0\n",
    "    mapping = {0: 1, 1: 0, 2: 0.5}\n",
    "\n",
    "    for i in range(len(test_index_list)):\n",
    "        # Get the actual drug concentration for the test sample\n",
    "        concentration = df.loc[test_index_list[i], 'drug concentration (uM)']\n",
    "        concentration_list.append(concentration)\n",
    "\n",
    "        # Map the predicted class labels to their respective values\n",
    "        prediction_transformed = [mapping[a] for a in y_pred_list[i]]\n",
    "        class_prediction_list.append(prediction_transformed)\n",
    "    \n",
    "    return concentration_list, class_prediction_list"
   ]
  },
  {
   "cell_type": "code",
   "execution_count": 16,
   "id": "a0b7948a",
   "metadata": {},
   "outputs": [],
   "source": [
    "def plot_dose_response_IC50(ax, test_index_list, y_pred_list, df, kws_dict, group):\n",
    "    \n",
    "    concentration_list, class_prediction_list = getConcentrationPrediction(test_index_list, y_pred_list, df)  \n",
    "    \n",
    "    for (g,c,p) in zip(group, concentration_list, class_prediction_list):\n",
    "        print(g)\n",
    "        color_point = kws_dict[g]['marker_col']\n",
    "        color_line = kws_dict[g]['line_col']\n",
    "        marker = kws_dict[g]['marker']\n",
    "        line = kws_dict[g]['line']\n",
    "\n",
    "        # Compute the best IC50 and slope to fit the data\n",
    "        IC50, slope = IC50_pred(c, p)\n",
    "        \n",
    "        ### Plot\n",
    "        X = np.array(c)\n",
    "        X = [0.01 if x == 0 else x for x in X]\n",
    "        Y = np.array(p)\n",
    "\n",
    "        # Generate fitted curve\n",
    "        x_fit = np.linspace(min(X), max(X), 1000)\n",
    "        y_fit = sigmoid(x_fit, IC50, slope)\n",
    "\n",
    "        # Plot fitted curve\n",
    "        ax.plot(x_fit, np.array(y_fit), color=color_line, ls=line, linewidth=0.8) # , alpha=0.60\n",
    "\n",
    "        # Plot points, size depends on the number of point at the same value\n",
    "        df = pd.DataFrame({'X': X, 'Y': Y})\n",
    "        df_count = df.value_counts().reset_index(name='N')\n",
    "\n",
    "        color_points_pal = sns.color_palette([color_point],as_cmap=True)\n",
    "        sns.scatterplot(data=df_count, x=\"X\", y=\"Y\", hue=\"N\", size=\"N\", sizes=(20, 200), \n",
    "                        palette=color_points_pal * df_count['N'].nunique(), \n",
    "                        edgecolor=color_line, linewidth=0.5,\n",
    "                        alpha = 0.8,\n",
    "                        facecolor='none',\n",
    "                        marker=marker,\n",
    "                        ax=ax)\n",
    "        \n",
    "        for line in ax.collections:\n",
    "            line.set_facecolor('none')  # Make markers empty (no fill)\n",
    "            line.set_linewidth(1.5)  # Set the border thickness\n",
    "\n",
    "\n",
    "    # Graph appearance\n",
    "    ax.set_xscale('log')\n",
    "    ax.set_xlim(0.007, 100)\n",
    "    ax.set_ylim(-0.2, 1.2)\n",
    "    \n",
    "    ax.set_xlabel('Drug concentration [µM]')\n",
    "    ax.set_ylabel('Class')\n",
    "    \n",
    "    x_position = [0.01, 0.1, 1, 10, 100]\n",
    "    x_labels = ['CTR', 0.1, 1, 10, 100]\n",
    "    ax.set_xticks(x_position, x_labels)\n",
    "    \n",
    "    y_position = [0,0.5, 1]\n",
    "    y_labels = [\"low viab.\", \"\",\"high viab.\"]\n",
    "    ax.set_yticks(y_position, y_labels, rotation=90, va='center', ha='center')\n",
    "\n",
    "    ax.grid(True)\n",
    "    plt.legend([], [], frameon=False)\n",
    "\n"
   ]
  },
  {
   "cell_type": "markdown",
   "id": "67031172",
   "metadata": {},
   "source": [
    "### Save figures"
   ]
  },
  {
   "cell_type": "code",
   "execution_count": 17,
   "id": "62fc6110",
   "metadata": {},
   "outputs": [],
   "source": [
    "def plot_save_all_figures_ML(\n",
    "        title, \n",
    "        metrics_dict, \n",
    "        conf_matrices, \n",
    "        histories, \n",
    "        y_test_list, \n",
    "        y_pred_list, \n",
    "        test_index_list, \n",
    "        y_pred_proba_list, \n",
    "        group_test, \n",
    "        df, \n",
    "        num_classes, \n",
    "        kws_dict,\n",
    "    ):\n",
    "\n",
    "    folder = f'{fig_folder}//{title}'\n",
    "    createFolder(folder)\n",
    "\n",
    "    # Save Accuracy vs epoch for NN model plot\n",
    "    if histories != []:\n",
    "        fig, ax = plt.subplots(1, 1, figsize=(2.2, 2))\n",
    "        plot_metrics_vs_epoch(ax, histories, to_plot=['accuracy', 'loss'])\n",
    "        plt.savefig(f\"{folder}//accuVSepoch.svg\", format='svg', bbox_inches='tight', transparent=True)\n",
    "        plt.show()\n",
    "    \n",
    "    # Save metrics boxplot\n",
    "    fig, ax = plt.subplots(1, 1, figsize=(1.8, 2))\n",
    "    plot_BoxPlot_Metrics(ax, metrics_dict)  \n",
    "    plt.savefig(f\"{folder}//metrics.svg\", format='svg', bbox_inches='tight', transparent=True)\n",
    "    plt.show()\n",
    "    \n",
    "    # Save ROC AUC plot\n",
    "    fig, ax = plt.subplots(1, 1, figsize=(1.8, 2))\n",
    "    plot_ROC_curves(ax, y_test_list, y_pred_proba_list, num_classes)\n",
    "    plt.savefig(f\"{folder}//ROC_AUC.svg\", format='svg', bbox_inches='tight', transparent=True)\n",
    "    plt.show()\n",
    "\n",
    "    # Save confusion matrices\n",
    "    plot_conf_matrices(conf_matrices)\n",
    "    plt.savefig(f\"{folder}//confusion matrices.svg\", format='svg', bbox_inches='tight', transparent=True)\n",
    "    plt.show()\n",
    "\n",
    "    # Save IC50 dose-response \n",
    "    if group_test == []:\n",
    "        group_test = [i for i in range(len(test_index_list))]\n",
    "        kws_dict = {i: {'marker_col': 'green', 'line_col': 'green', 'marker': 'o', 'line': '-'} for i in range(len(test_index_list))}\n",
    "\n",
    "    fig, ax = plt.subplots(1, 1, figsize=(3.2, 2))\n",
    "    plot_dose_response_IC50(ax, test_index_list, y_pred_list, df, kws_dict, group_test)\n",
    "    plt.savefig(f\"{folder}//IC50pred.svg\", format='svg', bbox_inches='tight', transparent=True)\n",
    "    plt.show()\n",
    "\n",
    "\n"
   ]
  },
  {
   "cell_type": "markdown",
   "id": "0ee7cad9",
   "metadata": {},
   "source": [
    "## True discrete dose-response curve (Viability Class VS Drug)"
   ]
  },
  {
   "cell_type": "markdown",
   "id": "c95e9aa7",
   "metadata": {},
   "source": [
    "#### A673"
   ]
  },
  {
   "cell_type": "code",
   "execution_count": 18,
   "id": "fb9fc4e1",
   "metadata": {},
   "outputs": [
    {
     "name": "stdout",
     "output_type": "stream",
     "text": [
      "1803\n"
     ]
    },
    {
     "name": "stderr",
     "output_type": "stream",
     "text": [
      "  0%|          | 0/5000 [00:00<?, ?it/s]"
     ]
    },
    {
     "name": "stderr",
     "output_type": "stream",
     "text": [
      "100%|██████████| 5000/5000 [00:16<00:00, 301.20it/s]\n"
     ]
    },
    {
     "name": "stdout",
     "output_type": "stream",
     "text": [
      "IC50:  3.350 with 95% credible interval: (2.250, 16.923)\n",
      "Slope: -31.976 with 95% credible interval: (-49.167, -1.006)\n",
      "Mean autocorrelation time: 46.452 steps\n",
      "2602\n"
     ]
    },
    {
     "name": "stderr",
     "output_type": "stream",
     "text": [
      "100%|██████████| 5000/5000 [00:16<00:00, 303.65it/s]\n"
     ]
    },
    {
     "name": "stdout",
     "output_type": "stream",
     "text": [
      "IC50:  2.379 with 95% credible interval: (2.077, 3.489)\n",
      "Slope: -16.177 with 95% credible interval: (-47.267, -5.043)\n",
      "Mean autocorrelation time: 69.245 steps\n",
      "2901\n"
     ]
    },
    {
     "name": "stderr",
     "output_type": "stream",
     "text": [
      "100%|██████████| 5000/5000 [00:19<00:00, 256.06it/s]\n"
     ]
    },
    {
     "name": "stdout",
     "output_type": "stream",
     "text": [
      "IC50:  3.443 with 95% credible interval: (2.755, 4.260)\n",
      "Slope: -5.084 with 95% credible interval: (-8.018, -3.177)\n",
      "Mean autocorrelation time: 53.594 steps\n"
     ]
    },
    {
     "data": {
      "image/png": "[encoded data removed]",
      "text/plain": [
       "<Figure size 320x200 with 1 Axes>"
      ]
     },
     "metadata": {},
     "output_type": "display_data"
    }
   ],
   "source": [
    "df = df_A673.copy()\n",
    "kws_dict = kws_dict_A673\n",
    "num_classes = 2\n",
    "\n",
    "title = f'A673 True dose response curve - real {num_classes} class'\n",
    "\n",
    "fig, ax = plt.subplots(1, 1, figsize=(3.2, 2))\n",
    "group=df['Experiment ID'].unique()\n",
    "test_index_list = []\n",
    "y_pred_list = []\n",
    "\n",
    "for exp in df['Experiment ID'].unique():\n",
    "    df_filt = df[df['Experiment ID'] == exp]\n",
    "\n",
    "    indices = df_filt.index.tolist()\n",
    "    test_index_list.append(indices)\n",
    "    \n",
    "    y = df_filt[f'{num_classes} classes encoded'].tolist()\n",
    "    y_pred_list.append(y)\n",
    "\n",
    "plot_dose_response_IC50(ax, test_index_list, y_pred_list, df, kws_dict, group)\n",
    "\n",
    "plt.savefig(f\"{fig_folder}//{title}.svg\", format='svg', bbox_inches='tight', transparent=True)"
   ]
  },
  {
   "cell_type": "markdown",
   "id": "05a303d0",
   "metadata": {},
   "source": [
    "#### PDX"
   ]
  },
  {
   "cell_type": "code",
   "execution_count": 19,
   "id": "d4b42e4f",
   "metadata": {},
   "outputs": [
    {
     "name": "stdout",
     "output_type": "stream",
     "text": [
      "1305\n"
     ]
    },
    {
     "name": "stderr",
     "output_type": "stream",
     "text": [
      "100%|██████████| 5000/5000 [00:20<00:00, 238.58it/s]\n"
     ]
    },
    {
     "name": "stdout",
     "output_type": "stream",
     "text": [
      "IC50:  2.087 with 95% credible interval: (1.697, 2.565)\n",
      "Slope: -2.788 with 95% credible interval: (-3.962, -1.943)\n",
      "Mean autocorrelation time: 28.907 steps\n",
      "1806\n"
     ]
    },
    {
     "name": "stderr",
     "output_type": "stream",
     "text": [
      "100%|██████████| 5000/5000 [00:18<00:00, 263.62it/s]\n"
     ]
    },
    {
     "name": "stdout",
     "output_type": "stream",
     "text": [
      "IC50:  1.117 with 95% credible interval: (1.027, 12.084)\n",
      "Slope: -18.696 with 95% credible interval: (-47.505, -0.491)\n",
      "Mean autocorrelation time: 59.669 steps\n",
      "2406\n"
     ]
    },
    {
     "name": "stderr",
     "output_type": "stream",
     "text": [
      "100%|██████████| 5000/5000 [00:20<00:00, 248.11it/s]\n"
     ]
    },
    {
     "name": "stdout",
     "output_type": "stream",
     "text": [
      "IC50:  1.803 with 95% credible interval: (1.350, 2.479)\n",
      "Slope: -3.305 with 95% credible interval: (-5.250, -2.107)\n",
      "Mean autocorrelation time: 35.490 steps\n"
     ]
    },
    {
     "data": {
      "image/png": "[encoded data removed]",
      "text/plain": [
       "<Figure size 320x200 with 1 Axes>"
      ]
     },
     "metadata": {},
     "output_type": "display_data"
    }
   ],
   "source": [
    "df = df_PDX.copy()\n",
    "kws_dict = kws_dict_PDX\n",
    "num_classes = 2\n",
    "\n",
    "title = f'PDX True dose response curve - real {num_classes} class'\n",
    "fig, ax = plt.subplots(1, 1, figsize=(3.2, 2))\n",
    "test_index_list = []\n",
    "y_pred_list = []\n",
    "group=df['Experiment ID'].unique()\n",
    "\n",
    "for exp in df['Experiment ID'].unique():\n",
    "    df_filt = df[df['Experiment ID'] == exp]\n",
    "\n",
    "    indices = df_filt.index.tolist()\n",
    "    test_index_list.append(indices)\n",
    "    \n",
    "    y = df_filt[f'{num_classes} classes encoded'].tolist()\n",
    "    y_pred_list.append(y)\n",
    "\n",
    "plot_dose_response_IC50(ax, test_index_list, y_pred_list, df, kws_dict, group)\n",
    "\n",
    "plt.savefig(f\"{fig_folder}//{title}.svg\", format='svg', bbox_inches='tight', transparent=True)"
   ]
  },
  {
   "cell_type": "markdown",
   "id": "84bc1b99",
   "metadata": {},
   "source": [
    "## NN model, train/test on the same dataset"
   ]
  },
  {
   "cell_type": "markdown",
   "id": "7f552188",
   "metadata": {},
   "source": [
    "#### A673"
   ]
  },
  {
   "cell_type": "code",
   "execution_count": 20,
   "id": "c50894e4",
   "metadata": {},
   "outputs": [],
   "source": [
    "features_A673 = [\n",
    "    'Mean grey value_day2',\n",
    "    'Correlation_day2',\n",
    "    'Grey2-0',\n",
    "    'Growth2-0',\n",
    "    'Homogeneity_day2',\n",
    "    'Equivalent Diameter (um)_day2',\n",
    "    'Area (um2)_day2',\n",
    "    'Energy_day2',\n",
    "    'Solidity_day2',\n",
    "    'Circularity_day2',\n",
    "    'Perimeter (um)_day2',\n",
    "    'Equivalent Diameter (um)_day0',\n",
    "    'Area (um2)_day0'\n",
    "]\n",
    "\n",
    "num_classes = 2"
   ]
  },
  {
   "cell_type": "code",
   "execution_count": 21,
   "id": "1b5295d8",
   "metadata": {
    "scrolled": true
   },
   "outputs": [
    {
     "name": "stdout",
     "output_type": "stream",
     "text": [
      "N A673 =  316\n",
      "\u001b[1m4/4\u001b[0m \u001b[32m━━━━━━━━━━━━━━━━━━━━\u001b[0m\u001b[37m\u001b[0m \u001b[1m0s\u001b[0m 21ms/step\n",
      "\u001b[1m3/3\u001b[0m \u001b[32m━━━━━━━━━━━━━━━━━━━━\u001b[0m\u001b[37m\u001b[0m \u001b[1m0s\u001b[0m 40ms/step\n",
      "WARNING:tensorflow:5 out of the last 8 calls to <function TensorFlowTrainer.make_predict_function.<locals>.one_step_on_data_distributed at 0x0000020161ED8540> triggered tf.function retracing. Tracing is expensive and the excessive number of tracings could be due to (1) creating @tf.function repeatedly in a loop, (2) passing tensors with different shapes, (3) passing Python objects instead of tensors. For (1), please define your @tf.function outside of the loop. For (2), @tf.function has reduce_retracing=True option that can avoid unnecessary retracing. For (3), please refer to https://www.tensorflow.org/guide/function#controlling_retracing and https://www.tensorflow.org/api_docs/python/tf/function for  more details.\n",
      "\u001b[1m1/5\u001b[0m \u001b[32m━━━━\u001b[0m\u001b[37m━━━━━━━━━━━━━━━━\u001b[0m \u001b[1m0s\u001b[0m 74ms/stepWARNING:tensorflow:6 out of the last 12 calls to <function TensorFlowTrainer.make_predict_function.<locals>.one_step_on_data_distributed at 0x0000020161ED8540> triggered tf.function retracing. Tracing is expensive and the excessive number of tracings could be due to (1) creating @tf.function repeatedly in a loop, (2) passing tensors with different shapes, (3) passing Python objects instead of tensors. For (1), please define your @tf.function outside of the loop. For (2), @tf.function has reduce_retracing=True option that can avoid unnecessary retracing. For (3), please refer to https://www.tensorflow.org/guide/function#controlling_retracing and https://www.tensorflow.org/api_docs/python/tf/function for  more details.\n",
      "\u001b[1m5/5\u001b[0m \u001b[32m━━━━━━━━━━━━━━━━━━━━\u001b[0m\u001b[37m\u001b[0m \u001b[1m0s\u001b[0m 22ms/step\n"
     ]
    },
    {
     "data": {
      "image/png": "[encoded data removed]",
      "text/plain": [
       "<Figure size 220x200 with 1 Axes>"
      ]
     },
     "metadata": {},
     "output_type": "display_data"
    },
    {
     "data": {
      "image/png": "[encoded data removed]",
      "text/plain": [
       "<Figure size 180x200 with 1 Axes>"
      ]
     },
     "metadata": {},
     "output_type": "display_data"
    },
    {
     "data": {
      "image/png": "[encoded data removed]",
      "text/plain": [
       "<Figure size 180x200 with 1 Axes>"
      ]
     },
     "metadata": {},
     "output_type": "display_data"
    },
    {
     "data": {
      "image/png": "[encoded data removed]",
      "text/plain": [
       "<Figure size 600x200 with 3 Axes>"
      ]
     },
     "metadata": {},
     "output_type": "display_data"
    },
    {
     "name": "stdout",
     "output_type": "stream",
     "text": [
      "1803\n"
     ]
    },
    {
     "name": "stderr",
     "output_type": "stream",
     "text": [
      "100%|██████████| 5000/5000 [00:17<00:00, 290.09it/s]\n"
     ]
    },
    {
     "name": "stdout",
     "output_type": "stream",
     "text": [
      "IC50:  3.319 with 95% credible interval: (2.240, 4.607)\n",
      "Slope: -31.682 with 95% credible interval: (-49.113, -8.915)\n",
      "Mean autocorrelation time: 57.508 steps\n",
      "2602\n"
     ]
    },
    {
     "name": "stderr",
     "output_type": "stream",
     "text": [
      "100%|██████████| 5000/5000 [00:18<00:00, 272.72it/s]\n"
     ]
    },
    {
     "name": "stdout",
     "output_type": "stream",
     "text": [
      "IC50:  1.658 with 95% credible interval: (1.234, 2.099)\n",
      "Slope: -4.418 with 95% credible interval: (-8.978, -2.170)\n",
      "Mean autocorrelation time: 34.887 steps\n",
      "2901\n"
     ]
    },
    {
     "name": "stderr",
     "output_type": "stream",
     "text": [
      "100%|██████████| 5000/5000 [00:20<00:00, 247.31it/s]\n"
     ]
    },
    {
     "name": "stdout",
     "output_type": "stream",
     "text": [
      "IC50:  3.569 with 95% credible interval: (2.743, 4.620)\n",
      "Slope: -2.981 with 95% credible interval: (-4.462, -1.914)\n",
      "Mean autocorrelation time: 44.291 steps\n"
     ]
    },
    {
     "data": {
      "image/png": "[encoded data removed]",
      "text/plain": [
       "<Figure size 320x200 with 1 Axes>"
      ]
     },
     "metadata": {},
     "output_type": "display_data"
    }
   ],
   "source": [
    "df = df_A673.copy()\n",
    "kws_dict = kws_dict_A673\n",
    "features = features_A673\n",
    "title = f'A673 - {num_classes} classes - NN - {len(features)} features'\n",
    "\n",
    "df = df.dropna(subset=features).reset_index(drop=True)\n",
    "model, initial_weights = createNN_model(len(features))\n",
    "print('N A673 = ', len(df))\n",
    "\n",
    "y = df[f'{num_classes} classes encoded']\n",
    "X = df[features]\n",
    "group = df['Experiment ID']\n",
    "\n",
    "(metrics_dict, conf_matrices, histories, y_test_list,\n",
    "     y_pred_list, test_index_list, y_pred_proba_list, group_test) = classification_cross_validatation(model, X, y, \n",
    "                                            validation_method='leaveOneOut', group=group, NN=True,\n",
    "                                        initial_weights=initial_weights)\n",
    "\n",
    "plot_save_all_figures_ML(title, metrics_dict, conf_matrices, histories, y_test_list, y_pred_list, test_index_list, y_pred_proba_list, group_test, df, num_classes, kws_dict)"
   ]
  },
  {
   "cell_type": "markdown",
   "id": "76540b9f",
   "metadata": {},
   "source": [
    "#### PDX"
   ]
  },
  {
   "cell_type": "code",
   "execution_count": 22,
   "id": "ce324f77",
   "metadata": {},
   "outputs": [],
   "source": [
    "features_PDX = [\n",
    "        'Mean grey value_day1',\n",
    "    'Mean grey value_day2',\n",
    "    'Grey1-0',\n",
    "    'Grey2-0',\n",
    "    'Correlation_day1',\n",
    "    'Correlation_day2',\n",
    "    'Solidity_day2',\n",
    "    'Circularity_day2',\n",
    "    'Circularity_day1',\n",
    "    'Perimeter (um)_day2',\n",
    "    'Solidity_day1',\n",
    "    'Grey2-1',\n",
    "    'Perimeter (um)_day1',\n",
    "    'Area (um2)_day2',\n",
    "    'Equivalent Diameter (um)_day2'\n",
    "]\n",
    "\n",
    "num_classes = 2\n",
    "\n"
   ]
  },
  {
   "cell_type": "code",
   "execution_count": 23,
   "id": "77db15d9",
   "metadata": {},
   "outputs": [
    {
     "name": "stdout",
     "output_type": "stream",
     "text": [
      "N PDX =  428\n",
      "\u001b[1m5/5\u001b[0m \u001b[32m━━━━━━━━━━━━━━━━━━━━\u001b[0m\u001b[37m\u001b[0m \u001b[1m0s\u001b[0m 21ms/step\n",
      "\u001b[1m6/6\u001b[0m \u001b[32m━━━━━━━━━━━━━━━━━━━━\u001b[0m\u001b[37m\u001b[0m \u001b[1m0s\u001b[0m 17ms/step\n",
      "\u001b[1m4/4\u001b[0m \u001b[32m━━━━━━━━━━━━━━━━━━━━\u001b[0m\u001b[37m\u001b[0m \u001b[1m0s\u001b[0m 25ms/step\n"
     ]
    },
    {
     "data": {
      "image/png": "[encoded data removed]",
      "text/plain": [
       "<Figure size 220x200 with 1 Axes>"
      ]
     },
     "metadata": {},
     "output_type": "display_data"
    },
    {
     "data": {
      "image/png": "[encoded data removed]",
      "text/plain": [
       "<Figure size 180x200 with 1 Axes>"
      ]
     },
     "metadata": {},
     "output_type": "display_data"
    },
    {
     "data": {
      "image/png": "[encoded data removed]",
      "text/plain": [
       "<Figure size 180x200 with 1 Axes>"
      ]
     },
     "metadata": {},
     "output_type": "display_data"
    },
    {
     "data": {
      "image/png": "[encoded data removed]",
      "text/plain": [
       "<Figure size 600x200 with 3 Axes>"
      ]
     },
     "metadata": {},
     "output_type": "display_data"
    },
    {
     "name": "stdout",
     "output_type": "stream",
     "text": [
      "1305\n"
     ]
    },
    {
     "name": "stderr",
     "output_type": "stream",
     "text": [
      "100%|██████████| 5000/5000 [00:21<00:00, 231.48it/s]\n"
     ]
    },
    {
     "name": "stdout",
     "output_type": "stream",
     "text": [
      "IC50:  1.801 with 95% credible interval: (1.114, 2.755)\n",
      "Slope: -1.069 with 95% credible interval: (-1.485, -0.750)\n",
      "Mean autocorrelation time: 30.277 steps\n",
      "1806\n"
     ]
    },
    {
     "name": "stderr",
     "output_type": "stream",
     "text": [
      "100%|██████████| 5000/5000 [00:20<00:00, 247.46it/s]\n"
     ]
    },
    {
     "name": "stdout",
     "output_type": "stream",
     "text": [
      "IC50:  0.404 with 95% credible interval: (0.231, 0.961)\n",
      "Slope: -1.688 with 95% credible interval: (-37.111, -1.182)\n",
      "Mean autocorrelation time: 51.675 steps\n",
      "2406\n"
     ]
    },
    {
     "name": "stderr",
     "output_type": "stream",
     "text": [
      "100%|██████████| 5000/5000 [00:18<00:00, 265.17it/s]\n"
     ]
    },
    {
     "name": "stdout",
     "output_type": "stream",
     "text": [
      "IC50:  2.140 with 95% credible interval: (1.543, 2.942)\n",
      "Slope: -3.332 with 95% credible interval: (-5.283, -2.149)\n",
      "Mean autocorrelation time: 42.635 steps\n"
     ]
    },
    {
     "data": {
      "image/png": "[encoded data removed]",
      "text/plain": [
       "<Figure size 320x200 with 1 Axes>"
      ]
     },
     "metadata": {},
     "output_type": "display_data"
    }
   ],
   "source": [
    "df = df_PDX.copy()\n",
    "kws_dict = kws_dict_PDX\n",
    "features = features_PDX\n",
    "title = f'PDX - {num_classes} classes - NN - {len(features)} features'\n",
    "\n",
    "df = df.dropna(subset=features).reset_index(drop=True)\n",
    "\n",
    "print('N PDX = ', len(df))\n",
    "\n",
    "y = df[f'{num_classes} classes encoded']\n",
    "X = df[features]\n",
    "group = df['Experiment ID']\n",
    "\n",
    "model, initial_weights = createNN_model(len(features))\n",
    "\n",
    "(metrics_dict, conf_matrices, histories, y_test_list,\n",
    "     y_pred_list, test_index_list, y_pred_proba_list, group_test) = classification_cross_validatation(model, X, y, \n",
    "                                     validation_method='leaveOneOut', group=group, NN=True,\n",
    "                                        initial_weights=initial_weights)\n",
    "                                        \n",
    "plot_save_all_figures_ML(title, metrics_dict, conf_matrices, histories, y_test_list, y_pred_list, test_index_list, y_pred_proba_list, group_test, df, num_classes, kws_dict)"
   ]
  },
  {
   "cell_type": "markdown",
   "id": "dc9ab9d5",
   "metadata": {},
   "source": [
    "## NN model, train A673 test PDX"
   ]
  },
  {
   "cell_type": "code",
   "execution_count": 24,
   "id": "c2be17fc",
   "metadata": {},
   "outputs": [],
   "source": [
    "def classification_cross_validatation_fixed_Xtrain(\n",
    "    model, \n",
    "    training_set, \n",
    "    test_set, \n",
    "    features,           # List of feature names, corresponding to columns names of the datasets\n",
    "    target_column,      # Column name for target labels\n",
    "    group_column,       # Column name for groups labels\n",
    "    NN=False, \n",
    "    initial_weights=[], \n",
    "    epoch=20, \n",
    "    batch_size=30, \n",
    "    ):\n",
    "    \n",
    "    # Prepare the training and test data\n",
    "    X_train = training_set[features]\n",
    "    X_test = test_set[features]\n",
    "    y_train = training_set[target_column]\n",
    "    y_test = test_set[target_column]\n",
    "    \n",
    "    # Extract unique groups labels from the test set\n",
    "    groups = test_set[group_column].unique()\n",
    "\n",
    "    # Standardize the training data\n",
    "    scaler = StandardScaler()\n",
    "    X_train = scaler.fit_transform(X_train)\n",
    "\n",
    "    # Initialize storage for metrics and predictions\n",
    "    metrics_dict = {'accuracy_scores': [], 'precision_scores': [], 'recall_scores': [], 'f1_scores': []}\n",
    "    conf_matrices, histories = [], []\n",
    "    y_test_list, y_pred_list, test_index_list, y_pred_proba_list, group_test_list = [], [], [], [], []\n",
    "    \n",
    "    for group in groups:   \n",
    "        # Select the test samples for the current dataset\n",
    "        index_group = test_set[test_set[group_column] == group].index\n",
    "        X_test_group = X_test.loc[index_group]\n",
    "        y_test_group = y_test.loc[index_group]\n",
    "\n",
    "        # Standardize the current test data\n",
    "        X_test_group = scaler.transform(X_test_group)\n",
    "\n",
    "        ### Training of the NN\n",
    "        if NN == True:\n",
    "            history, y_pred, y_pred_proba = _train_neural_network(\n",
    "                model, X_train, y_train, X_test_group, y_test_group, num_classes, epoch, batch_size, initial_weights\n",
    "            )\n",
    "            histories.append(history)\n",
    "        \n",
    "        ### Training of model other than NN\n",
    "        else : \n",
    "            y_pred, y_pred_proba = _train_standard_model(model, X_train, y_train, X_test_group)\n",
    "\n",
    "        ### Compute metrics\n",
    "        metrics_dict, conf_matrices = _save_computed_metrics(metrics_dict, conf_matrices, y_test_group, y_pred, num_classes)\n",
    "\n",
    "        ### Append predictions and test indices\n",
    "        y_test_list.append(np.array(y_test_group))   \n",
    "        test_index_list.append(index_group)\n",
    "        y_pred_list.append(np.array(y_pred))\n",
    "        y_pred_proba_list.append(y_pred_proba)\n",
    "        group_test_list.append(group)\n",
    "    \n",
    "\n",
    "    return (metrics_dict, conf_matrices, histories, y_test_list, y_pred_list, test_index_list,\n",
    "            y_pred_proba_list, group_test_list)"
   ]
  },
  {
   "cell_type": "code",
   "execution_count": 25,
   "id": "992769f3",
   "metadata": {},
   "outputs": [],
   "source": [
    "num_classes = 2\n",
    "features = features_PDX\n",
    "model, initial_weights = createNN_model(len(features))"
   ]
  },
  {
   "cell_type": "code",
   "execution_count": 26,
   "id": "5a106aa9",
   "metadata": {},
   "outputs": [
    {
     "name": "stdout",
     "output_type": "stream",
     "text": [
      "\u001b[1m5/5\u001b[0m \u001b[32m━━━━━━━━━━━━━━━━━━━━\u001b[0m\u001b[37m\u001b[0m \u001b[1m0s\u001b[0m 19ms/step\n",
      "\u001b[1m6/6\u001b[0m \u001b[32m━━━━━━━━━━━━━━━━━━━━\u001b[0m\u001b[37m\u001b[0m \u001b[1m0s\u001b[0m 17ms/step\n",
      "\u001b[1m4/4\u001b[0m \u001b[32m━━━━━━━━━━━━━━━━━━━━\u001b[0m\u001b[37m\u001b[0m \u001b[1m0s\u001b[0m 19ms/step\n"
     ]
    },
    {
     "data": {
      "image/png": "[encoded data removed]",
      "text/plain": [
       "<Figure size 220x200 with 1 Axes>"
      ]
     },
     "metadata": {},
     "output_type": "display_data"
    },
    {
     "data": {
      "image/png": "[encoded data removed]",
      "text/plain": [
       "<Figure size 180x200 with 1 Axes>"
      ]
     },
     "metadata": {},
     "output_type": "display_data"
    },
    {
     "data": {
      "image/png": "[encoded data removed]",
      "text/plain": [
       "<Figure size 180x200 with 1 Axes>"
      ]
     },
     "metadata": {},
     "output_type": "display_data"
    },
    {
     "data": {
      "image/png": "[encoded data removed]",
      "text/plain": [
       "<Figure size 600x200 with 3 Axes>"
      ]
     },
     "metadata": {},
     "output_type": "display_data"
    },
    {
     "name": "stdout",
     "output_type": "stream",
     "text": [
      "1305\n"
     ]
    },
    {
     "name": "stderr",
     "output_type": "stream",
     "text": [
      "100%|██████████| 5000/5000 [00:20<00:00, 245.22it/s]\n"
     ]
    },
    {
     "name": "stdout",
     "output_type": "stream",
     "text": [
      "IC50:  0.323 with 95% credible interval: (0.127, 0.684)\n",
      "Slope: -0.574 with 95% credible interval: (-0.773, -0.400)\n",
      "Mean autocorrelation time: 31.938 steps\n",
      "1806\n"
     ]
    },
    {
     "name": "stderr",
     "output_type": "stream",
     "text": [
      "100%|██████████| 5000/5000 [00:21<00:00, 237.03it/s]\n"
     ]
    },
    {
     "name": "stdout",
     "output_type": "stream",
     "text": [
      "IC50:  1.569 with 95% credible interval: (1.084, 2.124)\n",
      "Slope: -1.979 with 95% credible interval: (-2.897, -1.327)\n",
      "Mean autocorrelation time: 30.759 steps\n",
      "2406\n"
     ]
    },
    {
     "name": "stderr",
     "output_type": "stream",
     "text": [
      "100%|██████████| 5000/5000 [00:18<00:00, 265.33it/s]\n"
     ]
    },
    {
     "name": "stdout",
     "output_type": "stream",
     "text": [
      "IC50:  1.055 with 95% credible interval: (0.622, 1.682)\n",
      "Slope: -1.303 with 95% credible interval: (-1.944, -0.873)\n",
      "Mean autocorrelation time: 51.425 steps\n"
     ]
    },
    {
     "data": {
      "image/png": "[encoded data removed]",
      "text/plain": [
       "<Figure size 320x200 with 1 Axes>"
      ]
     },
     "metadata": {},
     "output_type": "display_data"
    }
   ],
   "source": [
    "training_set = df_A673.copy()\n",
    "test_set = df_PDX.copy()\n",
    "kws_dict = kws_dict_PDX\n",
    "title = f'Train A673 Test PDX - {num_classes} classes - NN - {len(features)} features'\n",
    "\n",
    "training_set = training_set.dropna(subset=features).reset_index(drop=True)\n",
    "test_set = test_set.dropna(subset=features).reset_index(drop=True)\n",
    "\n",
    "target_column = f'{num_classes} classes encoded'\n",
    "group_column = 'Experiment ID'\n",
    "\n",
    "(metrics_dict, conf_matrices, histories, y_test_list, y_pred_list, test_index_list,\n",
    "            y_pred_proba_list, group_test) = classification_cross_validatation_fixed_Xtrain(model, training_set, test_set, features_PDX, target_column, group_column,\n",
    "                                      NN=True, initial_weights=initial_weights, epoch=20, batch_size=30)\n",
    "\n",
    "plot_save_all_figures_ML(title, metrics_dict, conf_matrices, histories, y_test_list, y_pred_list, test_index_list, y_pred_proba_list, group_test, test_set, num_classes, kws_dict)"
   ]
  },
  {
   "cell_type": "markdown",
   "id": "05087a98",
   "metadata": {},
   "source": [
    "## Dynamic analysis"
   ]
  },
  {
   "cell_type": "markdown",
   "id": "47f91ec7",
   "metadata": {},
   "source": [
    "#### A673"
   ]
  },
  {
   "cell_type": "code",
   "execution_count": 27,
   "id": "06c62b00",
   "metadata": {},
   "outputs": [
    {
     "name": "stdout",
     "output_type": "stream",
     "text": [
      "\u001b[1m4/4\u001b[0m \u001b[32m━━━━━━━━━━━━━━━━━━━━\u001b[0m\u001b[37m\u001b[0m \u001b[1m0s\u001b[0m 24ms/step\n",
      "\u001b[1m3/3\u001b[0m \u001b[32m━━━━━━━━━━━━━━━━━━━━\u001b[0m\u001b[37m\u001b[0m \u001b[1m0s\u001b[0m 38ms/step\n",
      "1803\n"
     ]
    },
    {
     "name": "stderr",
     "output_type": "stream",
     "text": [
      "100%|██████████| 5000/5000 [00:18<00:00, 266.92it/s]\n"
     ]
    },
    {
     "name": "stdout",
     "output_type": "stream",
     "text": [
      "IC50:  3.318 with 95% credible interval: (2.479, 4.275)\n",
      "Slope: -4.230 with 95% credible interval: (-7.093, -2.437)\n",
      "Mean autocorrelation time: 44.203 steps\n",
      "2602\n"
     ]
    },
    {
     "name": "stderr",
     "output_type": "stream",
     "text": [
      "100%|██████████| 5000/5000 [00:16<00:00, 295.71it/s]\n"
     ]
    },
    {
     "name": "stdout",
     "output_type": "stream",
     "text": [
      "IC50:  3.396 with 95% credible interval: (2.256, 4.633)\n",
      "Slope: -31.811 with 95% credible interval: (-49.195, -8.651)\n",
      "Mean autocorrelation time: 56.814 steps\n"
     ]
    },
    {
     "data": {
      "image/png": "[encoded data removed]",
      "text/plain": [
       "<Figure size 320x200 with 1 Axes>"
      ]
     },
     "metadata": {},
     "output_type": "display_data"
    }
   ],
   "source": [
    "df = df_A673.copy()\n",
    "\n",
    "kws_dict = kws_dict_A673\n",
    "\n",
    "num_classes = 2\n",
    "\n",
    "features = ['Area (um2)', 'Mean grey value', 'Homogeneity', 'Energy',\n",
    "       'Correlation', 'Solidity', 'Circularity', 'Equivalent Diameter (um)',\n",
    "       'Perimeter (um)', 'Growth', 'Grey', \n",
    "       #'DCorrelation',\n",
    "       'Area (um2)_day0', 'Mean grey value_day0', 'Homogeneity_day0', 'Energy_day0',\n",
    "       'Correlation_day0', 'Solidity_day0', 'Circularity_day0', 'Equivalent Diameter (um)_day0',\n",
    "       'Perimeter (um)_day0'\n",
    "       ]\n",
    "\n",
    "title = f'Train A673 day 2 Test A673 day 1 - {num_classes} classes - NN - {len(features)} features'\n",
    "\n",
    "df_day1 = df.copy()\n",
    "columns_to_drop = df_day1.filter(regex=r'(day2$|2-0$|2-1$)').columns\n",
    "df_day1 = df_day1.drop(columns=columns_to_drop)\n",
    "df_day1 = df_day1.rename(columns=lambda col: col.replace('_day1', '').replace('_1-0', '').replace('1-0', ''))\n",
    "df_day1 = df_day1.dropna(subset=features).reset_index(drop=True)\n",
    "\n",
    "df_day2 = df.copy()\n",
    "columns_to_drop = df_day2.filter(regex=r'(day1$|1-0$|2-1$)').columns\n",
    "df_day2 = df_day2.drop(columns=columns_to_drop)\n",
    "df_day2 = df_day2.rename(columns=lambda col: col.replace('_day2', '').replace('_2-0', '').replace('2-0', ''))\n",
    "df_day2 = df_day2.dropna(subset=features).reset_index(drop=True)\n",
    "\n",
    "model, initial_weights = createNN_model(len(features))\n",
    "\n",
    "(metrics_dict, conf_matrices, histories, y_test_list, y_pred_list, test_index_list,\n",
    "            y_pred_proba_list, group_test) = classification_cross_validatation_fixed_Xtrain(model, \n",
    "    training_set=df_day2, test_set=df_day1, features=features, target_column=f'{num_classes} classes encoded',\n",
    "    group_column='Experiment ID', NN=True, initial_weights=initial_weights, epoch=20, batch_size=30) \n",
    "\n",
    "\"\"\"plot_save_all_figures_ML(title, metrics_dict, conf_matrices, histories, y_test_list, y_pred_list, test_index_list, y_pred_proba_list, group_test, \n",
    "                            df_day1, num_classes, kws_dict)\"\"\"\n",
    "\n",
    "fig, ax = plt.subplots(1, 1, figsize=(3.2, 2))\n",
    "plot_dose_response_IC50(ax, test_index_list, y_pred_list, df_day1, kws_dict, group_test)\n",
    "plt.savefig(f\"{fig_folder}//IC50pred_{title}.svg\", format='svg', bbox_inches='tight', transparent=True)\n",
    "plt.show()\n"
   ]
  },
  {
   "cell_type": "markdown",
   "id": "3011ad1c",
   "metadata": {},
   "source": [
    "#### PDX"
   ]
  },
  {
   "cell_type": "code",
   "execution_count": 28,
   "id": "063bcfaf",
   "metadata": {},
   "outputs": [
    {
     "name": "stdout",
     "output_type": "stream",
     "text": [
      "\u001b[1m6/6\u001b[0m \u001b[32m━━━━━━━━━━━━━━━━━━━━\u001b[0m\u001b[37m\u001b[0m \u001b[1m0s\u001b[0m 17ms/step\n",
      "\u001b[1m6/6\u001b[0m \u001b[32m━━━━━━━━━━━━━━━━━━━━\u001b[0m\u001b[37m\u001b[0m \u001b[1m0s\u001b[0m 17ms/step\n",
      "\u001b[1m4/4\u001b[0m \u001b[32m━━━━━━━━━━━━━━━━━━━━\u001b[0m\u001b[37m\u001b[0m \u001b[1m0s\u001b[0m 25ms/step\n",
      "1305\n"
     ]
    },
    {
     "name": "stderr",
     "output_type": "stream",
     "text": [
      "100%|██████████| 5000/5000 [00:20<00:00, 242.29it/s]\n"
     ]
    },
    {
     "name": "stdout",
     "output_type": "stream",
     "text": [
      "IC50:  5.690 with 95% credible interval: (4.311, 7.543)\n",
      "Slope: -1.870 with 95% credible interval: (-2.539, -1.326)\n",
      "Mean autocorrelation time: 28.389 steps\n",
      "1806\n"
     ]
    },
    {
     "name": "stderr",
     "output_type": "stream",
     "text": [
      "100%|██████████| 5000/5000 [00:20<00:00, 241.37it/s]\n"
     ]
    },
    {
     "name": "stdout",
     "output_type": "stream",
     "text": [
      "IC50:  3.900 with 95% credible interval: (3.081, 4.833)\n",
      "Slope: -2.842 with 95% credible interval: (-4.101, -1.956)\n",
      "Mean autocorrelation time: 32.323 steps\n",
      "2406\n"
     ]
    },
    {
     "name": "stderr",
     "output_type": "stream",
     "text": [
      "100%|██████████| 5000/5000 [00:19<00:00, 262.90it/s]\n"
     ]
    },
    {
     "name": "stdout",
     "output_type": "stream",
     "text": [
      "IC50:  3.320 with 95% credible interval: (2.377, 4.421)\n",
      "Slope: -2.830 with 95% credible interval: (-4.350, -1.838)\n",
      "Mean autocorrelation time: 30.900 steps\n"
     ]
    },
    {
     "data": {
      "image/png": "[encoded data removed]",
      "text/plain": [
       "<Figure size 320x200 with 1 Axes>"
      ]
     },
     "metadata": {},
     "output_type": "display_data"
    }
   ],
   "source": [
    "df = df_PDX.copy()\n",
    "\n",
    "kws_dict = kws_dict_PDX\n",
    "title = f'Train PDX day 2 Test PDX day 1 - {num_classes} classes - NN - {len(features)} features'\n",
    "num_classes = 2\n",
    "\n",
    "features = ['Area (um2)', 'Mean grey value', 'Homogeneity', 'Energy',\n",
    "       'Correlation', 'Solidity', 'Circularity', 'Equivalent Diameter (um)',\n",
    "       'Perimeter (um)', 'Growth', 'Grey', \n",
    "       'Area (um2)_day0', 'Mean grey value_day0', 'Homogeneity_day0', 'Energy_day0',\n",
    "       'Correlation_day0', 'Solidity_day0', 'Circularity_day0', 'Equivalent Diameter (um)_day0',\n",
    "       'Perimeter (um)_day0'\n",
    "       ]\n",
    "\n",
    "df_day1 = df.copy()\n",
    "columns_to_drop = df_day1.filter(regex=r'(day2$|2-0$|2-1$)').columns\n",
    "df_day1 = df_day1.drop(columns=columns_to_drop)\n",
    "df_day1 = df_day1.rename(columns=lambda col: col.replace('_day1', '').replace('_1-0', '').replace('1-0', ''))\n",
    "df_day1 = df_day1.dropna(subset=features).reset_index(drop=True)\n",
    "\n",
    "df_day2 = df.copy()\n",
    "columns_to_drop = df_day2.filter(regex=r'(day1$|1-0$|2-1$)').columns\n",
    "df_day2 = df_day2.drop(columns=columns_to_drop)\n",
    "df_day2 = df_day2.rename(columns=lambda col: col.replace('_day2', '').replace('_2-0', '').replace('2-0', ''))\n",
    "df_day2 = df_day2.dropna(subset=features).reset_index(drop=True)\n",
    "\n",
    "model, initial_weights = createNN_model(len(features))\n",
    "\n",
    "(metrics_dict, conf_matrices, histories, y_test_list, y_pred_list, test_index_list,\n",
    "            y_pred_proba_list, group_test) = classification_cross_validatation_fixed_Xtrain(model, \n",
    "    training_set=df_day2, test_set=df_day1, features=features, target_column=f'{num_classes} classes encoded',\n",
    "    group_column='Experiment ID', NN=True, initial_weights=initial_weights, epoch=20, batch_size=30) \n",
    "\n",
    "\"\"\"plot_save_all_figures_ML(title, metrics_dict, conf_matrices, histories, y_test_list, y_pred_list, test_index_list, y_pred_proba_list, group_test, \n",
    "                            df_day1, num_classes, kws_dict)\"\"\"\n",
    "fig, ax = plt.subplots(1, 1, figsize=(3.2, 2))\n",
    "plot_dose_response_IC50(ax, test_index_list, y_pred_list, df_day1, kws_dict, group_test)\n",
    "plt.savefig(f\"{fig_folder}//IC50pred_{title}.svg\", format='svg', bbox_inches='tight', transparent=True)\n",
    "plt.show()"
   ]
  },
  {
   "cell_type": "markdown",
   "id": "bce456c4",
   "metadata": {},
   "source": [
    "## Comparison of ML models"
   ]
  },
  {
   "cell_type": "code",
   "execution_count": 29,
   "id": "c473d773",
   "metadata": {},
   "outputs": [],
   "source": [
    "def plot_grouped_metrics(metrics_dicts, size=(5, 3), key='f1_scores', widths=0.7):\n",
    "    # Determine the number of groups to plot\n",
    "    num_groups = len(metrics_dicts)\n",
    "\n",
    "    # Create subplots, one for each group in metrics_dicts\n",
    "    fig, axes = plt.subplots(1, num_groups, figsize=size, sharey=True)\n",
    "\n",
    "    # Loop through each metrics dictionary and its corresponding axis\n",
    "    for i, (label, ax) in enumerate(zip(metrics_dicts.keys(),axes)):\n",
    "\n",
    "        # Call plot_BoxPlot_Metrics to plot the specified metric\n",
    "        plot_BoxPlot_Metrics(ax, metrics_dicts[label], keys=[key], widths=widths)\n",
    "        \n",
    "\n",
    "        ### Customize plot appearance\n",
    "        # X label\n",
    "        ax.set_xticklabels([label])\n",
    "\n",
    "        # Plot all subplots as if it was only one plot\n",
    "        if i > 0:\n",
    "            ax.spines['left'].set_visible(False)\n",
    "            ax.spines['right'].set_visible(False)\n",
    "            ax.set_yticklabels([])\n",
    "            ax.set_ylabel('')\n",
    "            ax.tick_params(axis='y', which='major', length=0)\n",
    "\n",
    "        if i == len(metrics_dicts) - 1:\n",
    "            ax.spines['right'].set_visible(True)\n",
    "\n",
    "        if i == 0:\n",
    "            ax.set_ylabel('f1-score')\n",
    "            ax.spines['right'].set_visible(False)\n",
    "        \n",
    "    plt.subplots_adjust(wspace=-0.1)\n",
    "    "
   ]
  },
  {
   "cell_type": "code",
   "execution_count": 30,
   "id": "916a71ed",
   "metadata": {},
   "outputs": [],
   "source": [
    "# Hyperparameter grid for different models\n",
    "models_param_grid = {\n",
    "    'svc' : {\n",
    "        'C': [0.1, 1, 10],                                  # Possible values for regularization parameter C\n",
    "        'kernel': ['linear', 'rbf'],                        # Types of kernels to use\n",
    "        'gamma': [10, 1, 0.1, 0.01]                         # Possible values for the gamma parameter (for rbf kernel)\n",
    "        # 'degree': [2, 3, 4],                                # Degree of the polynomial kernel (only if kernel='poly')\n",
    "        # 'coef0': [0.0, 0.1, 0.5]                            # Used for 'poly' and 'sigmoid' kernels\n",
    "    },\n",
    "    \n",
    "    'knn' : {\n",
    "        'n_neighbors': [3, 5, 7, 9, 11, 13, 15],            # Number of neighbors to use in the classifier\n",
    "        'weights': ['uniform', 'distance'],                 # Weighting method for neighbors ('uniform' or 'distance')\n",
    "        'metric': ['euclidean', 'manhattan']                # Distance metrics to use ('euclidean' or 'manhattan')\n",
    "    },\n",
    "    \n",
    "    'gnb' : {\n",
    "        'var_smoothing': [1e-9, 1e-8, 1e-7, 1e-6, 1e-5, 1e-4, 1e-3, 1e-2]  # Smoothing parameter for Gaussian Naive Bayes\n",
    "    },\n",
    "    \n",
    "    'dtc': {\n",
    "        'criterion': ['gini', 'entropy'],                   # Splitting criteria for the decision tree ('gini' or 'entropy')\n",
    "        'max_depth': [None, 10, 20, 30],                    # Maximum depth of the tree (None for unlimited depth)\n",
    "        'min_samples_split': [2, 5, 10],                    # Minimum number of samples required to split a node\n",
    "        'min_samples_leaf': [1, 2, 5],                      # Minimum number of samples required to be at a leaf node\n",
    "        # 'max_features': [None, 'auto', 'sqrt', 'log2']     # Number of features to consider at each split\n",
    "    },\n",
    "    \n",
    "    'rf' : {\n",
    "        'n_estimators': [50, 100, 150, 200],                # Number of trees in the random forest\n",
    "        # 'criterion': ['gini', 'entropy'],                   # Splitting criteria for random forest trees\n",
    "        'max_depth': [None, 3, 6, 9],                       # Maximum depth of the trees\n",
    "        'min_samples_split': [2, 5, 10],                    # Minimum number of samples required to split a node\n",
    "        'min_samples_leaf': [1, 2, 5],                      # Minimum number of samples required at a leaf node\n",
    "        'max_features': [None, 'sqrt', 'log2'],             # Number of features to consider for each split\n",
    "        # 'bootstrap': [True, False]                          # Whether to use bootstrap sampling (True/False)\n",
    "    },\n",
    "    \n",
    "    'logreg' : {\n",
    "        'penalty': ['l2', None],                            # Regularization penalty: 'l2' or no regularization (None)\n",
    "        'C': [0.001, 0.01, 0.1, 1, 10, 100],                # Inverse of regularization strength\n",
    "        'max_iter': [100, 200, 300],                        # Maximum number of iterations for the solver\n",
    "        'solver': ['lbfgs']                                 # Solver to use ('lbfgs' supports 'l2' regularization)\n",
    "    }\n",
    "}\n",
    "\n",
    "# Dictionary of model instances\n",
    "models_dict = {\n",
    "    'svc' : SVC(),                                 # Support Vector Classifier\n",
    "    'knn' : KNeighborsClassifier(),                # k-Nearest Neighbors Classifier\n",
    "    'gnb' : GaussianNB(),                          # Gaussian Naive Bayes Classifier\n",
    "    'dtc' : DecisionTreeClassifier(),              # Decision Tree Classifier\n",
    "    'rf': RandomForestClassifier(),                # Random Forest Classifier\n",
    "    'logreg' : LogisticRegression()                # Logistic Regression Classifier\n",
    "}\n",
    "\n"
   ]
  },
  {
   "cell_type": "code",
   "execution_count": 31,
   "id": "65008630",
   "metadata": {},
   "outputs": [],
   "source": [
    "def optimization_parameters(df, X, y, model, param_grid, groups):\n",
    "    # Use LeaveOneGroupOut cross-validation \n",
    "    logo = LeaveOneGroupOut()\n",
    "    \n",
    "    # Add scaling option to the parameter grid, including the StandardScaler and the 'passthrough' option\n",
    "    param_grid = {'scaler': [StandardScaler()],\n",
    "                  # Includes two scalers + option to not scale the data\n",
    "                  **{f'model__{key}': value for key, value in param_grid.items()}\n",
    "    }\n",
    "\n",
    "    # Create a pipeline with a scaler and the model\n",
    "    pipeline = Pipeline([('scaler', 'passthrough'), ('model', model)])\n",
    "    \n",
    "    # Setup GridSearchCV with the pipeline, parameter grid, and cross-validation strategy\n",
    "    grid_search = GridSearchCV(estimator=pipeline, param_grid=param_grid, cv=logo, scoring='accuracy', n_jobs=-1)\n",
    "\n",
    "    # Fit the model using the provided data and group splits\n",
    "    grid_search.fit(X, y, groups=groups)\n",
    "\n",
    "    # Retrieve and display the best hyperparameters and corresponding accuracy score\n",
    "    print(\"Model :\", model.__class__.__name__)\n",
    "    print(\"Best mean accuracy : {:.2f}%\".format(grid_search.best_score_ * 100))\n",
    "    print(\"Best hyperparameters :\", grid_search.best_params_, \"\\n\")\n",
    "    \n",
    "    # Extract the best model (the one with the best hyperparameters) from the grid search\n",
    "    best_model = grid_search.best_estimator_.named_steps['model']\n",
    "    \n",
    "    # Return the best model\n",
    "    return best_model"
   ]
  },
  {
   "cell_type": "code",
   "execution_count": 32,
   "id": "fcfe5ef5",
   "metadata": {},
   "outputs": [],
   "source": [
    "def multiple_model_comparison(df, title, features, target_column, group_column, models_labels, models_dict=models_dict, models_param_grid=models_param_grid):\n",
    "    df = df.dropna(subset=features).reset_index(drop=True)\n",
    "    \n",
    "    X = df[features]\n",
    "    y = df[target_column]\n",
    "    group = df[group_column]\n",
    "\n",
    "    # Initialize an empty dictionary to store the performance metrics for each model\n",
    "    metrics_dicts = {}\n",
    "\n",
    "    ### Train/test models (others than NN)\n",
    "    for model_id in models_labels:\n",
    "        # Retrieve the model and its corresponding parameter grid\n",
    "        model = models_dict[model_id]\n",
    "        param_grid = models_param_grid[model_id]\n",
    "\n",
    "        # Optimize the model parameters using grid search and cross-validation\n",
    "        best_params = optimization_parameters(df, X, y, model, param_grid, groups=group)\n",
    "\n",
    "        # Update the model with the best parameters found\n",
    "        model_opti = best_params\n",
    "        \n",
    "        # Run the model\n",
    "        metrics_dict_model, _, _, _, _, _, _, _ = classification_cross_validatation(model_opti, X, y, \n",
    "                                        validation_method='leaveOneOut', group=group, NN=False)\n",
    "\n",
    "        # Store the metrics for the model in the dictionary\n",
    "        metrics_dicts[model_id] = metrics_dict_model\n",
    "  \n",
    "    ### Train/test NN model\n",
    "    NN_model, initial_weights = createNN_model(len(features))\n",
    "\n",
    "    # Run the model for NN\n",
    "    metrics_dict_model, _, _, _, _, _, _, _ = classification_cross_validatation(NN_model, X, y, \n",
    "                                        validation_method='leaveOneOut', group=group, NN=True,\n",
    "                                            initial_weights=initial_weights)\n",
    "\n",
    "    # Store metrics for NN\n",
    "    metrics_dicts['NN'] = metrics_dict_model\n",
    "\n",
    "    ### Plot the f1-score for all models\n",
    "    plot_grouped_metrics(metrics_dicts, size=(5, 3))\n",
    "\n",
    "    ### Save figure\n",
    "    plt.savefig(f\"{fig_folder}//{title}.svg\", format='svg', bbox_inches='tight', transparent=True)\n",
    "    plt.show()"
   ]
  },
  {
   "cell_type": "markdown",
   "id": "b86e604a",
   "metadata": {},
   "source": [
    "### A673"
   ]
  },
  {
   "cell_type": "code",
   "execution_count": 33,
   "id": "8bb69c2f",
   "metadata": {},
   "outputs": [
    {
     "name": "stdout",
     "output_type": "stream",
     "text": [
      "Model : SVC\n",
      "Best mean accuracy : 97.74%\n",
      "Best hyperparameters : {'model__C': 0.1, 'model__gamma': 10, 'model__kernel': 'linear', 'scaler': StandardScaler()} \n",
      "\n",
      "Warning: SVC does not support 'predict_proba', skipping probability calculation.\n",
      "Warning: SVC does not support 'predict_proba', skipping probability calculation.\n",
      "Warning: SVC does not support 'predict_proba', skipping probability calculation.\n",
      "Model : KNeighborsClassifier\n",
      "Best mean accuracy : 96.05%\n",
      "Best hyperparameters : {'model__metric': 'manhattan', 'model__n_neighbors': 5, 'model__weights': 'uniform', 'scaler': StandardScaler()} \n",
      "\n",
      "Model : GaussianNB\n",
      "Best mean accuracy : 95.21%\n",
      "Best hyperparameters : {'model__var_smoothing': 1e-09, 'scaler': StandardScaler()} \n",
      "\n",
      "Model : DecisionTreeClassifier\n",
      "Best mean accuracy : 96.52%\n",
      "Best hyperparameters : {'model__criterion': 'gini', 'model__max_depth': None, 'model__min_samples_leaf': 2, 'model__min_samples_split': 10, 'scaler': StandardScaler()} \n",
      "\n",
      "Model : RandomForestClassifier\n",
      "Best mean accuracy : 96.52%\n",
      "Best hyperparameters : {'model__max_depth': None, 'model__max_features': None, 'model__min_samples_leaf': 5, 'model__min_samples_split': 10, 'model__n_estimators': 150, 'scaler': StandardScaler()} \n",
      "\n"
     ]
    },
    {
     "name": "stderr",
     "output_type": "stream",
     "text": [
      "c:\\Users\\MMBM_JOSQUIN\\AppData\\Local\\Programs\\Python\\Python312\\Lib\\site-packages\\sklearn\\linear_model\\_logistic.py:1208: UserWarning: Setting penalty=None will ignore the C and l1_ratio parameters\n",
      "  warnings.warn(\n",
      "c:\\Users\\MMBM_JOSQUIN\\AppData\\Local\\Programs\\Python\\Python312\\Lib\\site-packages\\sklearn\\linear_model\\_logistic.py:1208: UserWarning: Setting penalty=None will ignore the C and l1_ratio parameters\n",
      "  warnings.warn(\n",
      "c:\\Users\\MMBM_JOSQUIN\\AppData\\Local\\Programs\\Python\\Python312\\Lib\\site-packages\\sklearn\\linear_model\\_logistic.py:1208: UserWarning: Setting penalty=None will ignore the C and l1_ratio parameters\n",
      "  warnings.warn(\n",
      "c:\\Users\\MMBM_JOSQUIN\\AppData\\Local\\Programs\\Python\\Python312\\Lib\\site-packages\\sklearn\\linear_model\\_logistic.py:1208: UserWarning: Setting penalty=None will ignore the C and l1_ratio parameters\n",
      "  warnings.warn(\n"
     ]
    },
    {
     "name": "stdout",
     "output_type": "stream",
     "text": [
      "Model : LogisticRegression\n",
      "Best mean accuracy : 96.83%\n",
      "Best hyperparameters : {'model__C': 0.001, 'model__max_iter': 100, 'model__penalty': None, 'model__solver': 'lbfgs', 'scaler': StandardScaler()} \n",
      "\n",
      "\u001b[1m4/4\u001b[0m \u001b[32m━━━━━━━━━━━━━━━━━━━━\u001b[0m\u001b[37m\u001b[0m \u001b[1m0s\u001b[0m 24ms/step\n",
      "\u001b[1m3/3\u001b[0m \u001b[32m━━━━━━━━━━━━━━━━━━━━\u001b[0m\u001b[37m\u001b[0m \u001b[1m0s\u001b[0m 44ms/step\n",
      "\u001b[1m5/5\u001b[0m \u001b[32m━━━━━━━━━━━━━━━━━━━━\u001b[0m\u001b[37m\u001b[0m \u001b[1m0s\u001b[0m 19ms/step\n"
     ]
    },
    {
     "data": {
      "image/png": "[encoded data removed]",
      "text/plain": [
       "<Figure size 500x300 with 7 Axes>"
      ]
     },
     "metadata": {},
     "output_type": "display_data"
    }
   ],
   "source": [
    "df = df_A673.copy()\n",
    "features = features_A673\n",
    "title = 'SX_comp_models_A673'\n",
    "\n",
    "num_classes = 2\n",
    "target_column = f'{num_classes} classes encoded'\n",
    "group_column = 'Experiment ID'\n",
    "models_labels = ['svc', 'knn', 'gnb', 'dtc', 'rf', 'logreg']\n",
    "\n",
    "multiple_model_comparison(df, title, features, target_column, group_column, models_labels, models_dict=models_dict, models_param_grid=models_param_grid)\n"
   ]
  },
  {
   "cell_type": "markdown",
   "id": "fbf1f25f",
   "metadata": {},
   "source": [
    "### PDX"
   ]
  },
  {
   "cell_type": "code",
   "execution_count": 34,
   "id": "78f9bda3",
   "metadata": {},
   "outputs": [
    {
     "name": "stdout",
     "output_type": "stream",
     "text": [
      "Model : SVC\n",
      "Best mean accuracy : 93.13%\n",
      "Best hyperparameters : {'model__C': 0.1, 'model__gamma': 0.01, 'model__kernel': 'rbf', 'scaler': StandardScaler()} \n",
      "\n",
      "Warning: SVC does not support 'predict_proba', skipping probability calculation.\n",
      "Warning: SVC does not support 'predict_proba', skipping probability calculation.\n",
      "Warning: SVC does not support 'predict_proba', skipping probability calculation.\n",
      "Model : KNeighborsClassifier\n",
      "Best mean accuracy : 93.48%\n",
      "Best hyperparameters : {'model__metric': 'manhattan', 'model__n_neighbors': 13, 'model__weights': 'uniform', 'scaler': StandardScaler()} \n",
      "\n",
      "Model : GaussianNB\n",
      "Best mean accuracy : 93.40%\n",
      "Best hyperparameters : {'model__var_smoothing': 1e-09, 'scaler': StandardScaler()} \n",
      "\n",
      "Model : DecisionTreeClassifier\n",
      "Best mean accuracy : 92.11%\n",
      "Best hyperparameters : {'model__criterion': 'entropy', 'model__max_depth': 10, 'model__min_samples_leaf': 5, 'model__min_samples_split': 10, 'scaler': StandardScaler()} \n",
      "\n"
     ]
    },
    {
     "name": "stderr",
     "output_type": "stream",
     "text": [
      "c:\\Users\\MMBM_JOSQUIN\\AppData\\Local\\Programs\\Python\\Python312\\Lib\\site-packages\\numpy\\ma\\core.py:2820: RuntimeWarning: invalid value encountered in cast\n",
      "  _data = np.array(data, dtype=dtype, copy=copy,\n"
     ]
    },
    {
     "name": "stdout",
     "output_type": "stream",
     "text": [
      "Model : RandomForestClassifier\n",
      "Best mean accuracy : 95.08%\n",
      "Best hyperparameters : {'model__max_depth': 6, 'model__max_features': 'log2', 'model__min_samples_leaf': 5, 'model__min_samples_split': 2, 'model__n_estimators': 50, 'scaler': StandardScaler()} \n",
      "\n",
      "Model : LogisticRegression\n",
      "Best mean accuracy : 93.54%\n",
      "Best hyperparameters : {'model__C': 0.01, 'model__max_iter': 100, 'model__penalty': 'l2', 'model__solver': 'lbfgs', 'scaler': StandardScaler()} \n",
      "\n",
      "\u001b[1m5/5\u001b[0m \u001b[32m━━━━━━━━━━━━━━━━━━━━\u001b[0m\u001b[37m\u001b[0m \u001b[1m0s\u001b[0m 21ms/step\n",
      "\u001b[1m6/6\u001b[0m \u001b[32m━━━━━━━━━━━━━━━━━━━━\u001b[0m\u001b[37m\u001b[0m \u001b[1m0s\u001b[0m 17ms/step\n",
      "\u001b[1m4/4\u001b[0m \u001b[32m━━━━━━━━━━━━━━━━━━━━\u001b[0m\u001b[37m\u001b[0m \u001b[1m0s\u001b[0m 22ms/step\n"
     ]
    },
    {
     "data": {
      "image/png": "[encoded data removed]",
      "text/plain": [
       "<Figure size 500x300 with 7 Axes>"
      ]
     },
     "metadata": {},
     "output_type": "display_data"
    }
   ],
   "source": [
    "df = df_PDX.copy()\n",
    "features = features_PDX\n",
    "title = 'SX_comp_models_PDX'\n",
    "\n",
    "num_classes = 2\n",
    "target_column = f'{num_classes} classes encoded'\n",
    "group_column = 'Experiment ID'\n",
    "models_labels = ['svc', 'knn', 'gnb', 'dtc', 'rf', 'logreg']\n",
    "\n",
    "multiple_model_comparison(df, title, features, target_column, group_column, models_labels, models_dict=models_dict, models_param_grid=models_param_grid)"
   ]
  },
  {
   "cell_type": "markdown",
   "id": "69b38f14",
   "metadata": {},
   "source": [
    "### Train on A673, test on PDX"
   ]
  },
  {
   "cell_type": "code",
   "execution_count": 35,
   "id": "f4858127",
   "metadata": {},
   "outputs": [
    {
     "name": "stdout",
     "output_type": "stream",
     "text": [
      "Model : SVC\n",
      "Best mean accuracy : 97.95%\n",
      "Best hyperparameters : {'model__C': 0.1, 'model__gamma': 10, 'model__kernel': 'linear', 'scaler': StandardScaler()} \n",
      "\n",
      "Warning: SVC does not support 'predict_proba', skipping probability calculation.\n",
      "Warning: SVC does not support 'predict_proba', skipping probability calculation.\n",
      "Warning: SVC does not support 'predict_proba', skipping probability calculation.\n",
      "Model : KNeighborsClassifier\n",
      "Best mean accuracy : 99.32%\n",
      "Best hyperparameters : {'model__metric': 'manhattan', 'model__n_neighbors': 3, 'model__weights': 'uniform', 'scaler': StandardScaler()} \n",
      "\n",
      "Model : GaussianNB\n",
      "Best mean accuracy : 95.89%\n",
      "Best hyperparameters : {'model__var_smoothing': 1e-09, 'scaler': StandardScaler()} \n",
      "\n",
      "Model : DecisionTreeClassifier\n",
      "Best mean accuracy : 96.07%\n",
      "Best hyperparameters : {'model__criterion': 'gini', 'model__max_depth': None, 'model__min_samples_leaf': 1, 'model__min_samples_split': 5, 'scaler': StandardScaler()} \n",
      "\n",
      "Model : RandomForestClassifier\n",
      "Best mean accuracy : 100.00%\n",
      "Best hyperparameters : {'model__max_depth': None, 'model__max_features': 'log2', 'model__min_samples_leaf': 5, 'model__min_samples_split': 5, 'model__n_estimators': 100, 'scaler': StandardScaler()} \n",
      "\n",
      "Model : LogisticRegression\n",
      "Best mean accuracy : 100.00%\n",
      "Best hyperparameters : {'model__C': 0.1, 'model__max_iter': 100, 'model__penalty': 'l2', 'model__solver': 'lbfgs', 'scaler': StandardScaler()} \n",
      "\n",
      "\u001b[1m5/5\u001b[0m \u001b[32m━━━━━━━━━━━━━━━━━━━━\u001b[0m\u001b[37m\u001b[0m \u001b[1m0s\u001b[0m 17ms/step\n",
      "\u001b[1m6/6\u001b[0m \u001b[32m━━━━━━━━━━━━━━━━━━━━\u001b[0m\u001b[37m\u001b[0m \u001b[1m0s\u001b[0m 14ms/step\n",
      "\u001b[1m4/4\u001b[0m \u001b[32m━━━━━━━━━━━━━━━━━━━━\u001b[0m\u001b[37m\u001b[0m \u001b[1m0s\u001b[0m 23ms/step\n"
     ]
    },
    {
     "data": {
      "image/png": "[encoded data removed]",
      "text/plain": [
       "<Figure size 500x300 with 7 Axes>"
      ]
     },
     "metadata": {},
     "output_type": "display_data"
    }
   ],
   "source": [
    "training_set = df_A673.copy()\n",
    "test_set = df_PDX.copy()\n",
    "\n",
    "title = 'SX_comp_models_train_A673__test_PD'\n",
    "features = features_PDX\n",
    "num_classes = 2\n",
    "\n",
    "training_set = training_set.dropna(subset=features).reset_index(drop=True)\n",
    "test_set = test_set.dropna(subset=features).reset_index(drop=True)\n",
    "\n",
    "target_column = f'{num_classes} classes encoded'\n",
    "group_column = 'Experiment ID'\n",
    "\n",
    "groups = training_set[group_column]\n",
    "exps = test_set[group_column].unique()\n",
    "\n",
    "models_labels = ['svc', 'knn', 'gnb', 'dtc', 'rf', 'logreg']\n",
    "\n",
    "X_train = training_set[features]\n",
    "y_train = training_set[target_column]\n",
    "\n",
    "metrics_dicts = {}\n",
    "\n",
    "for model_id in models_labels:\n",
    "    model = models_dict[model_id]\n",
    "    param_grid = models_param_grid[model_id]\n",
    "\n",
    "    best_params = optimization_parameters(training_set, X_train, y_train, model, param_grid, groups=groups)\n",
    "    \n",
    "    model_opti = best_params\n",
    "\n",
    "    metrics_dict, _, _, _, _, _, _, _ = classification_cross_validatation_fixed_Xtrain(model_opti, training_set, test_set, \n",
    "                                                                features, target_column, group_column, NN=False)\n",
    "    \n",
    "    metrics_dicts[model_id] = metrics_dict\n",
    "\n",
    "    \n",
    "model, initial_weights = createNN_model(len(features))\n",
    "\n",
    "metrics_dict, _, _, _, _, _, _, _ = classification_cross_validatation_fixed_Xtrain(model, training_set, test_set, \n",
    "                                                                features, target_column, group_column, NN=True, initial_weights=initial_weights)\n",
    "\n",
    "metrics_dicts ['NN'] = metrics_dict\n",
    "\n",
    "\n",
    "plot_grouped_metrics(metrics_dicts)\n",
    "\n",
    "plt.savefig(f\"{fig_folder}//{title}.svg\", format='svg', bbox_inches='tight', transparent=True)\n",
    "plt.show()"
   ]
  }
 ],
 "metadata": {
  "kernelspec": {
   "display_name": "Python 3",
   "language": "python",
   "name": "python3"
  },
  "language_info": {
   "codemirror_mode": {
    "name": "ipython",
    "version": 3
   },
   "file_extension": ".py",
   "mimetype": "text/x-python",
   "name": "python",
   "nbconvert_exporter": "python",
   "pygments_lexer": "ipython3",
   "version": "3.12.7"
  }
 },
 "nbformat": 4,
 "nbformat_minor": 5
}
